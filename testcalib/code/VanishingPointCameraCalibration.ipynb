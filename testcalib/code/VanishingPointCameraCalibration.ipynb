{
 "cells": [
  {
   "cell_type": "markdown",
   "metadata": {},
   "source": [
    "# Extrinsic Camera Calibration \n",
    "\n",
    "Sensor calibration is one of the most important aspects of building a robot. Different sensors have different calibration procedures. Typically one can distinguish between intrinsic and extrinsic calibration. Intrinsic camera calibration tries to estimate the camera matrix $K$ (and potentially other camera-specific parameters like distortion coefficients). You can learn more about it in this [lecture by Cyril Stachniss](https://www.youtube.com/watch?v=Ou9Uj75DJX0), and this [OpenCV python tutorial](https://docs.opencv.org/4.5.2/dc/dbb/tutorial_py_calibration.html). For this chapter, we will be focusing on extrinsic camera calibration. \n",
    "\n",
    "Refer back to the [From Pixels to meters chapter](../LaneDetection/InversePerspectiveMapping.ipynb). If you did the exercises of that chapter, you may recall that to convert the lane line pixels detected by the neural network to meters, you needed the camera height $h$ and the rotation matrix $\\mathbf{R_{cr}}$, which describes how the camera is oriented with respect to the road reference frame. \n",
    "\n",
    "```{admonition} Reminder: Road reference frame\n",
    ":class: tip\n",
    "The \"road reference frame\" was defined in [the chapter on camera basics](../LaneDetection/CameraBasics.ipynb), and it is attached to the vehicle.  The $Z$ direction in the road reference frame is always identical to the vehicle's forwards axis and the $Y$ axis is identical to the vehicle's \"downwards axis\". The name \"road reference frame\" could be a bit misleading. The only reason we used the word \"road\" for this reference frame, is because the $Z-X$-plane in this reference frame is identical to the road plane, which we approximate as flat.\n",
    "```\n",
    "\n",
    "$\\mathbf{R_{cr}}$ was very easy to obtain through the CARLA simulator. But this is not that easy in real life. When you mount the camera to your vehicle, you can try to make it perfectly straight, which would correspond to $\\mathbf{R_{cr}} = \\mathbf{1}$, but you will always make a small mistake, which makes calibration necessary. The orientation with respect to the road could also change dynamically, which makes calibration challenging: \n",
    "The road is not always flat. It can be banked, elevated or just uneven and therefore, the orientation of the car and the camera keeps changing with respect to the flat road frame. The orientation of the car and the camera may also change with respect to the road if the car breaks are hit hard or due to the car suspension. "
   ]
  },
  {
   "cell_type": "markdown",
   "metadata": {},
   "source": [
    "Proper extrinsic calibration is essential for good vehicle control. The following plot shows two simulations in which the camera was mounted with a yaw of 4 degrees and a pitch of -4 degrees. In the first simulation, these yaw and pitch values were passed correctly to the `CameraGeometry` object, which was implemented in the chapter on Lane Detection. Hence, in this first simulation the calibraton was *perfect*. In the second simulation, default values of zero degrees were incorrectly assumed for both pitch and yaw. Hence, there was no calibration at all. "
   ]
  },
  {
   "cell_type": "code",
   "execution_count": 1,
   "metadata": {},
   "outputs": [
    {
     "name": "stdout",
     "output_type": "stream",
     "text": [
      "/usr/local/opt/python@3.10/bin/python3.10\n",
      "3.10.8 (main, Oct 13 2022, 10:19:13) [Clang 12.0.0 (clang-1200.0.32.29)]\n",
      "sys.version_info(major=3, minor=10, micro=8, releaselevel='final', serial=0)\n"
     ]
    }
   ],
   "source": [
    "import sys\n",
    "print(sys.executable)\n",
    "print(sys.version)\n",
    "print(sys.version_info)"
   ]
  },
  {
   "cell_type": "code",
   "execution_count": 1,
   "metadata": {
    "tags": [
     "remove-cell"
    ]
   },
   "outputs": [
    {
     "name": "stderr",
     "output_type": "stream",
     "text": [
      "/var/folders/7x/wrq6mp817f56hpd7kgpmpws00000gn/T/ipykernel_17585/1246088218.py:8: DeprecationWarning: `set_matplotlib_formats` is deprecated since IPython 7.23, directly use `matplotlib_inline.backend_inline.set_matplotlib_formats()`\n",
      "  display.set_matplotlib_formats('svg')\n"
     ]
    }
   ],
   "source": [
    "import numpy as np\n",
    "cte_no_calib = np.load(\"../../data/cte_yaw_4_no_calib.npy\")\n",
    "cte_with_calib = np.load(\"../../data/cte_yaw_4_with_calib.npy\")\n",
    "cte_perfect_calib = np.load(\"../../data/cte_yaw_4_perfect_calib.npy\")\n",
    "\n",
    "import matplotlib.pyplot as plt\n",
    "from IPython import display\n",
    "display.set_matplotlib_formats('svg')"
   ]
  },
  {
   "cell_type": "code",
   "execution_count": 2,
   "metadata": {
    "tags": [
     "remove-input"
    ]
   },
   "outputs": [
    {
     "data": {
      "image/svg+xml": "<?xml version=\"1.0\" encoding=\"utf-8\" standalone=\"no\"?>\n<!DOCTYPE svg PUBLIC \"-//W3C//DTD SVG 1.1//EN\"\n  \"http://www.w3.org/Graphics/SVG/1.1/DTD/svg11.dtd\">\n<svg xmlns:xlink=\"http://www.w3.org/1999/xlink\" width=\"453.26125pt\" height=\"337.59625pt\" viewBox=\"0 0 453.26125 337.59625\" xmlns=\"http://www.w3.org/2000/svg\" version=\"1.1\">\n <metadata>\n  <rdf:RDF xmlns:dc=\"http://purl.org/dc/elements/1.1/\" xmlns:cc=\"http://creativecommons.org/ns#\" xmlns:rdf=\"http://www.w3.org/1999/02/22-rdf-syntax-ns#\">\n   <cc:Work>\n    <dc:type rdf:resource=\"http://purl.org/dc/dcmitype/StillImage\"/>\n    <dc:date>2023-01-07T04:02:33.071917</dc:date>\n    <dc:format>image/svg+xml</dc:format>\n    <dc:creator>\n     <cc:Agent>\n      <dc:title>Matplotlib v3.6.2, https://matplotlib.org/</dc:title>\n     </cc:Agent>\n    </dc:creator>\n   </cc:Work>\n  </rdf:RDF>\n </metadata>\n <defs>\n  <style type=\"text/css\">*{stroke-linejoin: round; stroke-linecap: butt}</style>\n </defs>\n <g id=\"figure_1\">\n  <g id=\"patch_1\">\n   <path d=\"M 0 337.59625 \nL 453.26125 337.59625 \nL 453.26125 0 \nL 0 0 \nz\n\" style=\"fill: #ffffff\"/>\n  </g>\n  <g id=\"axes_1\">\n   <g id=\"patch_2\">\n    <path d=\"M 43.78125 300.04 \nL 446.06125 300.04 \nL 446.06125 7.2 \nL 43.78125 7.2 \nz\n\" style=\"fill: #ffffff\"/>\n   </g>\n   <g id=\"matplotlib.axis_1\">\n    <g id=\"xtick_1\">\n     <g id=\"line2d_1\">\n      <defs>\n       <path id=\"m59b03201a3\" d=\"M 0 0 \nL 0 3.5 \n\" style=\"stroke: #000000; stroke-width: 0.8\"/>\n      </defs>\n      <g>\n       <use xlink:href=\"#m59b03201a3\" x=\"43.78125\" y=\"300.04\" style=\"stroke: #000000; stroke-width: 0.8\"/>\n      </g>\n     </g>\n     <g id=\"text_1\">\n      <!-- 0 -->\n      <g transform=\"translate(40.6 314.638437) scale(0.1 -0.1)\">\n       <defs>\n        <path id=\"DejaVuSans-30\" d=\"M 2034 4250 \nQ 1547 4250 1301 3770 \nQ 1056 3291 1056 2328 \nQ 1056 1369 1301 889 \nQ 1547 409 2034 409 \nQ 2525 409 2770 889 \nQ 3016 1369 3016 2328 \nQ 3016 3291 2770 3770 \nQ 2525 4250 2034 4250 \nz\nM 2034 4750 \nQ 2819 4750 3233 4129 \nQ 3647 3509 3647 2328 \nQ 3647 1150 3233 529 \nQ 2819 -91 2034 -91 \nQ 1250 -91 836 529 \nQ 422 1150 422 2328 \nQ 422 3509 836 4129 \nQ 1250 4750 2034 4750 \nz\n\" transform=\"scale(0.015625)\"/>\n       </defs>\n       <use xlink:href=\"#DejaVuSans-30\"/>\n      </g>\n     </g>\n    </g>\n    <g id=\"xtick_2\">\n     <g id=\"line2d_2\">\n      <g>\n       <use xlink:href=\"#m59b03201a3\" x=\"120.406012\" y=\"300.04\" style=\"stroke: #000000; stroke-width: 0.8\"/>\n      </g>\n     </g>\n     <g id=\"text_2\">\n      <!-- 2 -->\n      <g transform=\"translate(117.224762 314.638437) scale(0.1 -0.1)\">\n       <defs>\n        <path id=\"DejaVuSans-32\" d=\"M 1228 531 \nL 3431 531 \nL 3431 0 \nL 469 0 \nL 469 531 \nQ 828 903 1448 1529 \nQ 2069 2156 2228 2338 \nQ 2531 2678 2651 2914 \nQ 2772 3150 2772 3378 \nQ 2772 3750 2511 3984 \nQ 2250 4219 1831 4219 \nQ 1534 4219 1204 4116 \nQ 875 4013 500 3803 \nL 500 4441 \nQ 881 4594 1212 4672 \nQ 1544 4750 1819 4750 \nQ 2544 4750 2975 4387 \nQ 3406 4025 3406 3419 \nQ 3406 3131 3298 2873 \nQ 3191 2616 2906 2266 \nQ 2828 2175 2409 1742 \nQ 1991 1309 1228 531 \nz\n\" transform=\"scale(0.015625)\"/>\n       </defs>\n       <use xlink:href=\"#DejaVuSans-32\"/>\n      </g>\n     </g>\n    </g>\n    <g id=\"xtick_3\">\n     <g id=\"line2d_3\">\n      <g>\n       <use xlink:href=\"#m59b03201a3\" x=\"197.030774\" y=\"300.04\" style=\"stroke: #000000; stroke-width: 0.8\"/>\n      </g>\n     </g>\n     <g id=\"text_3\">\n      <!-- 4 -->\n      <g transform=\"translate(193.849524 314.638437) scale(0.1 -0.1)\">\n       <defs>\n        <path id=\"DejaVuSans-34\" d=\"M 2419 4116 \nL 825 1625 \nL 2419 1625 \nL 2419 4116 \nz\nM 2253 4666 \nL 3047 4666 \nL 3047 1625 \nL 3713 1625 \nL 3713 1100 \nL 3047 1100 \nL 3047 0 \nL 2419 0 \nL 2419 1100 \nL 313 1100 \nL 313 1709 \nL 2253 4666 \nz\n\" transform=\"scale(0.015625)\"/>\n       </defs>\n       <use xlink:href=\"#DejaVuSans-34\"/>\n      </g>\n     </g>\n    </g>\n    <g id=\"xtick_4\">\n     <g id=\"line2d_4\">\n      <g>\n       <use xlink:href=\"#m59b03201a3\" x=\"273.655536\" y=\"300.04\" style=\"stroke: #000000; stroke-width: 0.8\"/>\n      </g>\n     </g>\n     <g id=\"text_4\">\n      <!-- 6 -->\n      <g transform=\"translate(270.474286 314.638437) scale(0.1 -0.1)\">\n       <defs>\n        <path id=\"DejaVuSans-36\" d=\"M 2113 2584 \nQ 1688 2584 1439 2293 \nQ 1191 2003 1191 1497 \nQ 1191 994 1439 701 \nQ 1688 409 2113 409 \nQ 2538 409 2786 701 \nQ 3034 994 3034 1497 \nQ 3034 2003 2786 2293 \nQ 2538 2584 2113 2584 \nz\nM 3366 4563 \nL 3366 3988 \nQ 3128 4100 2886 4159 \nQ 2644 4219 2406 4219 \nQ 1781 4219 1451 3797 \nQ 1122 3375 1075 2522 \nQ 1259 2794 1537 2939 \nQ 1816 3084 2150 3084 \nQ 2853 3084 3261 2657 \nQ 3669 2231 3669 1497 \nQ 3669 778 3244 343 \nQ 2819 -91 2113 -91 \nQ 1303 -91 875 529 \nQ 447 1150 447 2328 \nQ 447 3434 972 4092 \nQ 1497 4750 2381 4750 \nQ 2619 4750 2861 4703 \nQ 3103 4656 3366 4563 \nz\n\" transform=\"scale(0.015625)\"/>\n       </defs>\n       <use xlink:href=\"#DejaVuSans-36\"/>\n      </g>\n     </g>\n    </g>\n    <g id=\"xtick_5\">\n     <g id=\"line2d_5\">\n      <g>\n       <use xlink:href=\"#m59b03201a3\" x=\"350.280298\" y=\"300.04\" style=\"stroke: #000000; stroke-width: 0.8\"/>\n      </g>\n     </g>\n     <g id=\"text_5\">\n      <!-- 8 -->\n      <g transform=\"translate(347.099048 314.638437) scale(0.1 -0.1)\">\n       <defs>\n        <path id=\"DejaVuSans-38\" d=\"M 2034 2216 \nQ 1584 2216 1326 1975 \nQ 1069 1734 1069 1313 \nQ 1069 891 1326 650 \nQ 1584 409 2034 409 \nQ 2484 409 2743 651 \nQ 3003 894 3003 1313 \nQ 3003 1734 2745 1975 \nQ 2488 2216 2034 2216 \nz\nM 1403 2484 \nQ 997 2584 770 2862 \nQ 544 3141 544 3541 \nQ 544 4100 942 4425 \nQ 1341 4750 2034 4750 \nQ 2731 4750 3128 4425 \nQ 3525 4100 3525 3541 \nQ 3525 3141 3298 2862 \nQ 3072 2584 2669 2484 \nQ 3125 2378 3379 2068 \nQ 3634 1759 3634 1313 \nQ 3634 634 3220 271 \nQ 2806 -91 2034 -91 \nQ 1263 -91 848 271 \nQ 434 634 434 1313 \nQ 434 1759 690 2068 \nQ 947 2378 1403 2484 \nz\nM 1172 3481 \nQ 1172 3119 1398 2916 \nQ 1625 2713 2034 2713 \nQ 2441 2713 2670 2916 \nQ 2900 3119 2900 3481 \nQ 2900 3844 2670 4047 \nQ 2441 4250 2034 4250 \nQ 1625 4250 1398 4047 \nQ 1172 3844 1172 3481 \nz\n\" transform=\"scale(0.015625)\"/>\n       </defs>\n       <use xlink:href=\"#DejaVuSans-38\"/>\n      </g>\n     </g>\n    </g>\n    <g id=\"xtick_6\">\n     <g id=\"line2d_6\">\n      <g>\n       <use xlink:href=\"#m59b03201a3\" x=\"426.90506\" y=\"300.04\" style=\"stroke: #000000; stroke-width: 0.8\"/>\n      </g>\n     </g>\n     <g id=\"text_6\">\n      <!-- 10 -->\n      <g transform=\"translate(420.54256 314.638437) scale(0.1 -0.1)\">\n       <defs>\n        <path id=\"DejaVuSans-31\" d=\"M 794 531 \nL 1825 531 \nL 1825 4091 \nL 703 3866 \nL 703 4441 \nL 1819 4666 \nL 2450 4666 \nL 2450 531 \nL 3481 531 \nL 3481 0 \nL 794 0 \nL 794 531 \nz\n\" transform=\"scale(0.015625)\"/>\n       </defs>\n       <use xlink:href=\"#DejaVuSans-31\"/>\n       <use xlink:href=\"#DejaVuSans-30\" x=\"63.623047\"/>\n      </g>\n     </g>\n    </g>\n    <g id=\"text_7\">\n     <!-- Time (seconds) -->\n     <g transform=\"translate(206.759531 328.316562) scale(0.1 -0.1)\">\n      <defs>\n       <path id=\"DejaVuSans-54\" d=\"M -19 4666 \nL 3928 4666 \nL 3928 4134 \nL 2272 4134 \nL 2272 0 \nL 1638 0 \nL 1638 4134 \nL -19 4134 \nL -19 4666 \nz\n\" transform=\"scale(0.015625)\"/>\n       <path id=\"DejaVuSans-69\" d=\"M 603 3500 \nL 1178 3500 \nL 1178 0 \nL 603 0 \nL 603 3500 \nz\nM 603 4863 \nL 1178 4863 \nL 1178 4134 \nL 603 4134 \nL 603 4863 \nz\n\" transform=\"scale(0.015625)\"/>\n       <path id=\"DejaVuSans-6d\" d=\"M 3328 2828 \nQ 3544 3216 3844 3400 \nQ 4144 3584 4550 3584 \nQ 5097 3584 5394 3201 \nQ 5691 2819 5691 2113 \nL 5691 0 \nL 5113 0 \nL 5113 2094 \nQ 5113 2597 4934 2840 \nQ 4756 3084 4391 3084 \nQ 3944 3084 3684 2787 \nQ 3425 2491 3425 1978 \nL 3425 0 \nL 2847 0 \nL 2847 2094 \nQ 2847 2600 2669 2842 \nQ 2491 3084 2119 3084 \nQ 1678 3084 1418 2786 \nQ 1159 2488 1159 1978 \nL 1159 0 \nL 581 0 \nL 581 3500 \nL 1159 3500 \nL 1159 2956 \nQ 1356 3278 1631 3431 \nQ 1906 3584 2284 3584 \nQ 2666 3584 2933 3390 \nQ 3200 3197 3328 2828 \nz\n\" transform=\"scale(0.015625)\"/>\n       <path id=\"DejaVuSans-65\" d=\"M 3597 1894 \nL 3597 1613 \nL 953 1613 \nQ 991 1019 1311 708 \nQ 1631 397 2203 397 \nQ 2534 397 2845 478 \nQ 3156 559 3463 722 \nL 3463 178 \nQ 3153 47 2828 -22 \nQ 2503 -91 2169 -91 \nQ 1331 -91 842 396 \nQ 353 884 353 1716 \nQ 353 2575 817 3079 \nQ 1281 3584 2069 3584 \nQ 2775 3584 3186 3129 \nQ 3597 2675 3597 1894 \nz\nM 3022 2063 \nQ 3016 2534 2758 2815 \nQ 2500 3097 2075 3097 \nQ 1594 3097 1305 2825 \nQ 1016 2553 972 2059 \nL 3022 2063 \nz\n\" transform=\"scale(0.015625)\"/>\n       <path id=\"DejaVuSans-20\" transform=\"scale(0.015625)\"/>\n       <path id=\"DejaVuSans-28\" d=\"M 1984 4856 \nQ 1566 4138 1362 3434 \nQ 1159 2731 1159 2009 \nQ 1159 1288 1364 580 \nQ 1569 -128 1984 -844 \nL 1484 -844 \nQ 1016 -109 783 600 \nQ 550 1309 550 2009 \nQ 550 2706 781 3412 \nQ 1013 4119 1484 4856 \nL 1984 4856 \nz\n\" transform=\"scale(0.015625)\"/>\n       <path id=\"DejaVuSans-73\" d=\"M 2834 3397 \nL 2834 2853 \nQ 2591 2978 2328 3040 \nQ 2066 3103 1784 3103 \nQ 1356 3103 1142 2972 \nQ 928 2841 928 2578 \nQ 928 2378 1081 2264 \nQ 1234 2150 1697 2047 \nL 1894 2003 \nQ 2506 1872 2764 1633 \nQ 3022 1394 3022 966 \nQ 3022 478 2636 193 \nQ 2250 -91 1575 -91 \nQ 1294 -91 989 -36 \nQ 684 19 347 128 \nL 347 722 \nQ 666 556 975 473 \nQ 1284 391 1588 391 \nQ 1994 391 2212 530 \nQ 2431 669 2431 922 \nQ 2431 1156 2273 1281 \nQ 2116 1406 1581 1522 \nL 1381 1569 \nQ 847 1681 609 1914 \nQ 372 2147 372 2553 \nQ 372 3047 722 3315 \nQ 1072 3584 1716 3584 \nQ 2034 3584 2315 3537 \nQ 2597 3491 2834 3397 \nz\n\" transform=\"scale(0.015625)\"/>\n       <path id=\"DejaVuSans-63\" d=\"M 3122 3366 \nL 3122 2828 \nQ 2878 2963 2633 3030 \nQ 2388 3097 2138 3097 \nQ 1578 3097 1268 2742 \nQ 959 2388 959 1747 \nQ 959 1106 1268 751 \nQ 1578 397 2138 397 \nQ 2388 397 2633 464 \nQ 2878 531 3122 666 \nL 3122 134 \nQ 2881 22 2623 -34 \nQ 2366 -91 2075 -91 \nQ 1284 -91 818 406 \nQ 353 903 353 1747 \nQ 353 2603 823 3093 \nQ 1294 3584 2113 3584 \nQ 2378 3584 2631 3529 \nQ 2884 3475 3122 3366 \nz\n\" transform=\"scale(0.015625)\"/>\n       <path id=\"DejaVuSans-6f\" d=\"M 1959 3097 \nQ 1497 3097 1228 2736 \nQ 959 2375 959 1747 \nQ 959 1119 1226 758 \nQ 1494 397 1959 397 \nQ 2419 397 2687 759 \nQ 2956 1122 2956 1747 \nQ 2956 2369 2687 2733 \nQ 2419 3097 1959 3097 \nz\nM 1959 3584 \nQ 2709 3584 3137 3096 \nQ 3566 2609 3566 1747 \nQ 3566 888 3137 398 \nQ 2709 -91 1959 -91 \nQ 1206 -91 779 398 \nQ 353 888 353 1747 \nQ 353 2609 779 3096 \nQ 1206 3584 1959 3584 \nz\n\" transform=\"scale(0.015625)\"/>\n       <path id=\"DejaVuSans-6e\" d=\"M 3513 2113 \nL 3513 0 \nL 2938 0 \nL 2938 2094 \nQ 2938 2591 2744 2837 \nQ 2550 3084 2163 3084 \nQ 1697 3084 1428 2787 \nQ 1159 2491 1159 1978 \nL 1159 0 \nL 581 0 \nL 581 3500 \nL 1159 3500 \nL 1159 2956 \nQ 1366 3272 1645 3428 \nQ 1925 3584 2291 3584 \nQ 2894 3584 3203 3211 \nQ 3513 2838 3513 2113 \nz\n\" transform=\"scale(0.015625)\"/>\n       <path id=\"DejaVuSans-64\" d=\"M 2906 2969 \nL 2906 4863 \nL 3481 4863 \nL 3481 0 \nL 2906 0 \nL 2906 525 \nQ 2725 213 2448 61 \nQ 2172 -91 1784 -91 \nQ 1150 -91 751 415 \nQ 353 922 353 1747 \nQ 353 2572 751 3078 \nQ 1150 3584 1784 3584 \nQ 2172 3584 2448 3432 \nQ 2725 3281 2906 2969 \nz\nM 947 1747 \nQ 947 1113 1208 752 \nQ 1469 391 1925 391 \nQ 2381 391 2643 752 \nQ 2906 1113 2906 1747 \nQ 2906 2381 2643 2742 \nQ 2381 3103 1925 3103 \nQ 1469 3103 1208 2742 \nQ 947 2381 947 1747 \nz\n\" transform=\"scale(0.015625)\"/>\n       <path id=\"DejaVuSans-29\" d=\"M 513 4856 \nL 1013 4856 \nQ 1481 4119 1714 3412 \nQ 1947 2706 1947 2009 \nQ 1947 1309 1714 600 \nQ 1481 -109 1013 -844 \nL 513 -844 \nQ 928 -128 1133 580 \nQ 1338 1288 1338 2009 \nQ 1338 2731 1133 3434 \nQ 928 4138 513 4856 \nz\n\" transform=\"scale(0.015625)\"/>\n      </defs>\n      <use xlink:href=\"#DejaVuSans-54\"/>\n      <use xlink:href=\"#DejaVuSans-69\" x=\"57.958984\"/>\n      <use xlink:href=\"#DejaVuSans-6d\" x=\"85.742188\"/>\n      <use xlink:href=\"#DejaVuSans-65\" x=\"183.154297\"/>\n      <use xlink:href=\"#DejaVuSans-20\" x=\"244.677734\"/>\n      <use xlink:href=\"#DejaVuSans-28\" x=\"276.464844\"/>\n      <use xlink:href=\"#DejaVuSans-73\" x=\"315.478516\"/>\n      <use xlink:href=\"#DejaVuSans-65\" x=\"367.578125\"/>\n      <use xlink:href=\"#DejaVuSans-63\" x=\"429.101562\"/>\n      <use xlink:href=\"#DejaVuSans-6f\" x=\"484.082031\"/>\n      <use xlink:href=\"#DejaVuSans-6e\" x=\"545.263672\"/>\n      <use xlink:href=\"#DejaVuSans-64\" x=\"608.642578\"/>\n      <use xlink:href=\"#DejaVuSans-73\" x=\"672.119141\"/>\n      <use xlink:href=\"#DejaVuSans-29\" x=\"724.21875\"/>\n     </g>\n    </g>\n   </g>\n   <g id=\"matplotlib.axis_2\">\n    <g id=\"ytick_1\">\n     <g id=\"line2d_7\">\n      <defs>\n       <path id=\"m9d85690ee3\" d=\"M 0 0 \nL -3.5 0 \n\" style=\"stroke: #000000; stroke-width: 0.8\"/>\n      </defs>\n      <g>\n       <use xlink:href=\"#m9d85690ee3\" x=\"43.78125\" y=\"286.772294\" style=\"stroke: #000000; stroke-width: 0.8\"/>\n      </g>\n     </g>\n     <g id=\"text_8\">\n      <!-- 0.0 -->\n      <g transform=\"translate(20.878125 290.571513) scale(0.1 -0.1)\">\n       <defs>\n        <path id=\"DejaVuSans-2e\" d=\"M 684 794 \nL 1344 794 \nL 1344 0 \nL 684 0 \nL 684 794 \nz\n\" transform=\"scale(0.015625)\"/>\n       </defs>\n       <use xlink:href=\"#DejaVuSans-30\"/>\n       <use xlink:href=\"#DejaVuSans-2e\" x=\"63.623047\"/>\n       <use xlink:href=\"#DejaVuSans-30\" x=\"95.410156\"/>\n      </g>\n     </g>\n    </g>\n    <g id=\"ytick_2\">\n     <g id=\"line2d_8\">\n      <g>\n       <use xlink:href=\"#m9d85690ee3\" x=\"43.78125\" y=\"233.336544\" style=\"stroke: #000000; stroke-width: 0.8\"/>\n      </g>\n     </g>\n     <g id=\"text_9\">\n      <!-- 0.2 -->\n      <g transform=\"translate(20.878125 237.135763) scale(0.1 -0.1)\">\n       <use xlink:href=\"#DejaVuSans-30\"/>\n       <use xlink:href=\"#DejaVuSans-2e\" x=\"63.623047\"/>\n       <use xlink:href=\"#DejaVuSans-32\" x=\"95.410156\"/>\n      </g>\n     </g>\n    </g>\n    <g id=\"ytick_3\">\n     <g id=\"line2d_9\">\n      <g>\n       <use xlink:href=\"#m9d85690ee3\" x=\"43.78125\" y=\"179.900795\" style=\"stroke: #000000; stroke-width: 0.8\"/>\n      </g>\n     </g>\n     <g id=\"text_10\">\n      <!-- 0.4 -->\n      <g transform=\"translate(20.878125 183.700014) scale(0.1 -0.1)\">\n       <use xlink:href=\"#DejaVuSans-30\"/>\n       <use xlink:href=\"#DejaVuSans-2e\" x=\"63.623047\"/>\n       <use xlink:href=\"#DejaVuSans-34\" x=\"95.410156\"/>\n      </g>\n     </g>\n    </g>\n    <g id=\"ytick_4\">\n     <g id=\"line2d_10\">\n      <g>\n       <use xlink:href=\"#m9d85690ee3\" x=\"43.78125\" y=\"126.465045\" style=\"stroke: #000000; stroke-width: 0.8\"/>\n      </g>\n     </g>\n     <g id=\"text_11\">\n      <!-- 0.6 -->\n      <g transform=\"translate(20.878125 130.264264) scale(0.1 -0.1)\">\n       <use xlink:href=\"#DejaVuSans-30\"/>\n       <use xlink:href=\"#DejaVuSans-2e\" x=\"63.623047\"/>\n       <use xlink:href=\"#DejaVuSans-36\" x=\"95.410156\"/>\n      </g>\n     </g>\n    </g>\n    <g id=\"ytick_5\">\n     <g id=\"line2d_11\">\n      <g>\n       <use xlink:href=\"#m9d85690ee3\" x=\"43.78125\" y=\"73.029296\" style=\"stroke: #000000; stroke-width: 0.8\"/>\n      </g>\n     </g>\n     <g id=\"text_12\">\n      <!-- 0.8 -->\n      <g transform=\"translate(20.878125 76.828515) scale(0.1 -0.1)\">\n       <use xlink:href=\"#DejaVuSans-30\"/>\n       <use xlink:href=\"#DejaVuSans-2e\" x=\"63.623047\"/>\n       <use xlink:href=\"#DejaVuSans-38\" x=\"95.410156\"/>\n      </g>\n     </g>\n    </g>\n    <g id=\"ytick_6\">\n     <g id=\"line2d_12\">\n      <g>\n       <use xlink:href=\"#m9d85690ee3\" x=\"43.78125\" y=\"19.593547\" style=\"stroke: #000000; stroke-width: 0.8\"/>\n      </g>\n     </g>\n     <g id=\"text_13\">\n      <!-- 1.0 -->\n      <g transform=\"translate(20.878125 23.392765) scale(0.1 -0.1)\">\n       <use xlink:href=\"#DejaVuSans-31\"/>\n       <use xlink:href=\"#DejaVuSans-2e\" x=\"63.623047\"/>\n       <use xlink:href=\"#DejaVuSans-30\" x=\"95.410156\"/>\n      </g>\n     </g>\n    </g>\n    <g id=\"text_14\">\n     <!-- Cross Track Error (meters) -->\n     <g transform=\"translate(14.798438 218.90125) rotate(-90) scale(0.1 -0.1)\">\n      <defs>\n       <path id=\"DejaVuSans-43\" d=\"M 4122 4306 \nL 4122 3641 \nQ 3803 3938 3442 4084 \nQ 3081 4231 2675 4231 \nQ 1875 4231 1450 3742 \nQ 1025 3253 1025 2328 \nQ 1025 1406 1450 917 \nQ 1875 428 2675 428 \nQ 3081 428 3442 575 \nQ 3803 722 4122 1019 \nL 4122 359 \nQ 3791 134 3420 21 \nQ 3050 -91 2638 -91 \nQ 1578 -91 968 557 \nQ 359 1206 359 2328 \nQ 359 3453 968 4101 \nQ 1578 4750 2638 4750 \nQ 3056 4750 3426 4639 \nQ 3797 4528 4122 4306 \nz\n\" transform=\"scale(0.015625)\"/>\n       <path id=\"DejaVuSans-72\" d=\"M 2631 2963 \nQ 2534 3019 2420 3045 \nQ 2306 3072 2169 3072 \nQ 1681 3072 1420 2755 \nQ 1159 2438 1159 1844 \nL 1159 0 \nL 581 0 \nL 581 3500 \nL 1159 3500 \nL 1159 2956 \nQ 1341 3275 1631 3429 \nQ 1922 3584 2338 3584 \nQ 2397 3584 2469 3576 \nQ 2541 3569 2628 3553 \nL 2631 2963 \nz\n\" transform=\"scale(0.015625)\"/>\n       <path id=\"DejaVuSans-61\" d=\"M 2194 1759 \nQ 1497 1759 1228 1600 \nQ 959 1441 959 1056 \nQ 959 750 1161 570 \nQ 1363 391 1709 391 \nQ 2188 391 2477 730 \nQ 2766 1069 2766 1631 \nL 2766 1759 \nL 2194 1759 \nz\nM 3341 1997 \nL 3341 0 \nL 2766 0 \nL 2766 531 \nQ 2569 213 2275 61 \nQ 1981 -91 1556 -91 \nQ 1019 -91 701 211 \nQ 384 513 384 1019 \nQ 384 1609 779 1909 \nQ 1175 2209 1959 2209 \nL 2766 2209 \nL 2766 2266 \nQ 2766 2663 2505 2880 \nQ 2244 3097 1772 3097 \nQ 1472 3097 1187 3025 \nQ 903 2953 641 2809 \nL 641 3341 \nQ 956 3463 1253 3523 \nQ 1550 3584 1831 3584 \nQ 2591 3584 2966 3190 \nQ 3341 2797 3341 1997 \nz\n\" transform=\"scale(0.015625)\"/>\n       <path id=\"DejaVuSans-6b\" d=\"M 581 4863 \nL 1159 4863 \nL 1159 1991 \nL 2875 3500 \nL 3609 3500 \nL 1753 1863 \nL 3688 0 \nL 2938 0 \nL 1159 1709 \nL 1159 0 \nL 581 0 \nL 581 4863 \nz\n\" transform=\"scale(0.015625)\"/>\n       <path id=\"DejaVuSans-45\" d=\"M 628 4666 \nL 3578 4666 \nL 3578 4134 \nL 1259 4134 \nL 1259 2753 \nL 3481 2753 \nL 3481 2222 \nL 1259 2222 \nL 1259 531 \nL 3634 531 \nL 3634 0 \nL 628 0 \nL 628 4666 \nz\n\" transform=\"scale(0.015625)\"/>\n       <path id=\"DejaVuSans-74\" d=\"M 1172 4494 \nL 1172 3500 \nL 2356 3500 \nL 2356 3053 \nL 1172 3053 \nL 1172 1153 \nQ 1172 725 1289 603 \nQ 1406 481 1766 481 \nL 2356 481 \nL 2356 0 \nL 1766 0 \nQ 1100 0 847 248 \nQ 594 497 594 1153 \nL 594 3053 \nL 172 3053 \nL 172 3500 \nL 594 3500 \nL 594 4494 \nL 1172 4494 \nz\n\" transform=\"scale(0.015625)\"/>\n      </defs>\n      <use xlink:href=\"#DejaVuSans-43\"/>\n      <use xlink:href=\"#DejaVuSans-72\" x=\"69.824219\"/>\n      <use xlink:href=\"#DejaVuSans-6f\" x=\"108.6875\"/>\n      <use xlink:href=\"#DejaVuSans-73\" x=\"169.869141\"/>\n      <use xlink:href=\"#DejaVuSans-73\" x=\"221.96875\"/>\n      <use xlink:href=\"#DejaVuSans-20\" x=\"274.068359\"/>\n      <use xlink:href=\"#DejaVuSans-54\" x=\"305.855469\"/>\n      <use xlink:href=\"#DejaVuSans-72\" x=\"352.189453\"/>\n      <use xlink:href=\"#DejaVuSans-61\" x=\"393.302734\"/>\n      <use xlink:href=\"#DejaVuSans-63\" x=\"454.582031\"/>\n      <use xlink:href=\"#DejaVuSans-6b\" x=\"509.5625\"/>\n      <use xlink:href=\"#DejaVuSans-20\" x=\"567.472656\"/>\n      <use xlink:href=\"#DejaVuSans-45\" x=\"599.259766\"/>\n      <use xlink:href=\"#DejaVuSans-72\" x=\"662.443359\"/>\n      <use xlink:href=\"#DejaVuSans-72\" x=\"701.806641\"/>\n      <use xlink:href=\"#DejaVuSans-6f\" x=\"740.669922\"/>\n      <use xlink:href=\"#DejaVuSans-72\" x=\"801.851562\"/>\n      <use xlink:href=\"#DejaVuSans-20\" x=\"842.964844\"/>\n      <use xlink:href=\"#DejaVuSans-28\" x=\"874.751953\"/>\n      <use xlink:href=\"#DejaVuSans-6d\" x=\"913.765625\"/>\n      <use xlink:href=\"#DejaVuSans-65\" x=\"1011.177734\"/>\n      <use xlink:href=\"#DejaVuSans-74\" x=\"1072.701172\"/>\n      <use xlink:href=\"#DejaVuSans-65\" x=\"1111.910156\"/>\n      <use xlink:href=\"#DejaVuSans-72\" x=\"1173.433594\"/>\n      <use xlink:href=\"#DejaVuSans-73\" x=\"1214.546875\"/>\n      <use xlink:href=\"#DejaVuSans-29\" x=\"1266.646484\"/>\n     </g>\n    </g>\n   </g>\n   <g id=\"line2d_13\">\n    <path d=\"M 43.78125 279.455012 \nL 45.058329 279.455012 \nL 46.335409 275.540289 \nL 47.612488 275.540289 \nL 48.889567 275.332946 \nL 50.166647 275.332946 \nL 51.443726 275.644938 \nL 55.274964 275.715102 \nL 57.829123 275.769446 \nL 59.106202 276.019008 \nL 60.383282 276.019008 \nL 61.660361 275.61809 \nL 62.93744 275.61809 \nL 64.21452 275.997306 \nL 65.491599 275.997306 \nL 66.768679 276.532855 \nL 68.045758 276.532855 \nL 69.322837 277.19935 \nL 70.599917 277.19935 \nL 71.876996 276.256506 \nL 73.154075 276.256506 \nL 74.431155 276.384515 \nL 83.37071 276.320529 \nL 84.64779 275.943849 \nL 85.924869 275.943849 \nL 87.201948 276.388052 \nL 88.479028 276.388052 \nL 89.756107 276.046298 \nL 91.033187 276.046298 \nL 92.310266 276.236784 \nL 93.587345 276.236784 \nL 94.864425 275.509498 \nL 96.141504 275.509498 \nL 97.418583 274.102366 \nL 98.695663 274.102366 \nL 99.972742 273.950339 \nL 101.249821 273.950339 \nL 102.526901 271.756001 \nL 103.80398 271.756001 \nL 105.08106 267.385783 \nL 106.358139 267.385783 \nL 107.635218 267.710722 \nL 108.912298 267.710722 \nL 110.189377 266.281952 \nL 111.466456 266.281952 \nL 112.743536 262.712485 \nL 114.020615 262.712485 \nL 115.297694 260.217264 \nL 116.574774 260.217264 \nL 117.851853 266.375585 \nL 119.128933 266.375585 \nL 120.406012 263.5646 \nL 121.683091 263.5646 \nL 122.960171 258.661574 \nL 124.23725 258.661574 \nL 125.514329 258.516454 \nL 126.791409 258.516454 \nL 128.068488 258.397623 \nL 129.345567 258.397623 \nL 130.622647 252.551215 \nL 131.899726 252.551215 \nL 133.176806 258.190996 \nL 134.453885 258.190996 \nL 135.730964 257.83837 \nL 137.008044 257.83837 \nL 138.285123 259.95779 \nL 139.562202 259.95779 \nL 140.839282 260.550471 \nL 142.116361 260.550471 \nL 143.39344 256.421399 \nL 144.67052 256.421399 \nL 145.947599 257.006904 \nL 147.224679 257.006904 \nL 148.501758 253.297749 \nL 149.778837 253.297749 \nL 151.055917 245.125896 \nL 152.332996 245.125896 \nL 153.610075 247.320623 \nL 154.887155 247.320623 \nL 156.164234 248.122038 \nL 157.441313 248.122038 \nL 158.718393 245.043033 \nL 159.995472 245.043033 \nL 161.272552 244.342009 \nL 162.549631 244.342009 \nL 163.82671 240.294644 \nL 165.10379 240.294644 \nL 166.380869 238.460232 \nL 167.657948 238.460232 \nL 168.935028 243.502568 \nL 170.212107 243.502568 \nL 171.489187 240.888613 \nL 172.766266 240.888613 \nL 174.043345 243.150394 \nL 175.320425 243.150394 \nL 176.597504 232.605428 \nL 177.874583 232.605428 \nL 179.151663 225.340942 \nL 180.428742 225.340942 \nL 181.705821 257.085349 \nL 182.982901 257.085349 \nL 184.25998 254.330765 \nL 185.53706 254.330765 \nL 186.814139 252.321491 \nL 188.091218 252.321491 \nL 189.368298 249.812466 \nL 190.645377 249.812466 \nL 191.922456 233.000612 \nL 193.199536 233.000612 \nL 194.476615 226.676622 \nL 195.753694 226.676622 \nL 197.030774 212.348155 \nL 198.307853 212.348155 \nL 199.584933 199.150658 \nL 200.862012 199.150658 \nL 202.139091 224.447759 \nL 203.416171 224.447759 \nL 204.69325 251.742709 \nL 205.970329 251.742709 \nL 207.247409 215.685683 \nL 208.524488 215.685683 \nL 209.801567 214.471813 \nL 211.078647 214.471813 \nL 212.355726 212.574408 \nL 213.632806 212.574408 \nL 214.909885 211.981114 \nL 216.186964 211.981114 \nL 217.464044 214.705711 \nL 218.741123 214.705711 \nL 220.018202 214.890875 \nL 221.295282 214.890875 \nL 222.572361 207.99319 \nL 223.84944 207.99319 \nL 225.12652 209.233487 \nL 226.403599 209.233487 \nL 227.680679 207.143282 \nL 228.957758 207.143282 \nL 230.234837 208.655838 \nL 231.511917 208.655838 \nL 232.788996 207.003969 \nL 234.066075 207.003969 \nL 235.343155 205.520181 \nL 236.620234 205.520181 \nL 237.897313 204.614902 \nL 239.174393 204.614902 \nL 240.451472 202.319674 \nL 241.728552 202.319674 \nL 243.005631 209.042523 \nL 244.28271 209.042523 \nL 245.55979 207.587643 \nL 246.836869 207.587643 \nL 248.113948 206.334261 \nL 249.391028 206.334261 \nL 250.668107 204.689198 \nL 251.945187 204.689198 \nL 253.222266 210.109615 \nL 254.499345 210.109615 \nL 255.776425 201.602666 \nL 257.053504 201.602666 \nL 258.330583 201.961075 \nL 259.607663 201.961075 \nL 260.884742 199.710563 \nL 262.161821 199.710563 \nL 263.438901 199.143657 \nL 264.71598 199.143657 \nL 265.99306 205.208336 \nL 267.270139 205.208336 \nL 268.547218 196.085688 \nL 269.824298 196.085688 \nL 271.101377 193.418617 \nL 272.378456 193.418617 \nL 273.655536 201.071061 \nL 274.932615 201.071061 \nL 276.209694 200.208 \nL 277.486774 200.208 \nL 278.763853 197.04905 \nL 280.040933 197.04905 \nL 281.318012 189.783984 \nL 282.595091 189.783984 \nL 283.872171 192.994978 \nL 285.14925 192.994978 \nL 286.426329 191.117671 \nL 287.703409 191.117671 \nL 288.980488 196.892341 \nL 290.257567 196.892341 \nL 291.534647 194.040859 \nL 292.811726 194.040859 \nL 294.088806 188.894092 \nL 295.365885 188.894092 \nL 296.642964 193.781188 \nL 297.920044 193.781188 \nL 299.197123 189.035175 \nL 300.474202 189.035175 \nL 301.751282 194.133063 \nL 303.028361 194.133063 \nL 304.30544 187.492943 \nL 305.58252 187.492943 \nL 306.859599 180.75558 \nL 308.136679 180.75558 \nL 309.413758 191.572869 \nL 310.690837 191.572869 \nL 311.967917 189.017726 \nL 313.244996 189.017726 \nL 314.522075 198.380917 \nL 315.799155 198.380917 \nL 317.076234 180.013846 \nL 318.353313 180.013846 \nL 319.630393 175.163421 \nL 320.907472 175.163421 \nL 322.184552 192.50747 \nL 323.461631 192.50747 \nL 324.73871 188.636372 \nL 328.569948 188.630101 \nL 329.847028 186.653249 \nL 331.124107 186.653249 \nL 332.401187 172.424087 \nL 333.678266 172.424087 \nL 334.955345 190.789709 \nL 336.232425 190.789709 \nL 337.509504 190.472502 \nL 338.786583 190.472502 \nL 340.063663 198.746085 \nL 341.340742 198.746085 \nL 342.617821 184.416041 \nL 343.894901 184.416041 \nL 345.17198 190.790948 \nL 346.44906 190.790948 \nL 347.726139 189.053515 \nL 349.003218 189.053515 \nL 350.280298 191.11012 \nL 351.557377 191.11012 \nL 352.834456 196.601413 \nL 354.111536 196.601413 \nL 355.388615 184.375818 \nL 356.665694 184.375818 \nL 357.942774 189.736754 \nL 359.219853 189.736754 \nL 360.496933 187.232161 \nL 361.774012 187.232161 \nL 363.051091 193.694425 \nL 364.328171 193.694425 \nL 365.60525 183.128558 \nL 366.882329 183.128558 \nL 368.159409 198.590391 \nL 369.436488 198.590391 \nL 370.713567 189.690122 \nL 371.990647 189.690122 \nL 373.267726 185.433415 \nL 374.544806 185.433415 \nL 375.821885 178.969149 \nL 377.098964 178.969149 \nL 378.376044 156.949015 \nL 379.653123 156.949015 \nL 380.930202 208.882861 \nL 382.207282 208.882861 \nL 383.484361 185.439691 \nL 384.76144 185.439691 \nL 386.03852 156.79469 \nL 387.315599 156.79469 \nL 388.592679 146.928556 \nL 389.869758 146.928556 \nL 391.146837 185.448393 \nL 392.423917 185.448393 \nL 393.700996 178.032205 \nL 394.978075 178.032205 \nL 396.255155 176.118933 \nL 397.532234 176.118933 \nL 398.809313 172.505326 \nL 400.086393 172.505326 \nL 401.363472 167.241707 \nL 402.640552 167.241707 \nL 403.917631 183.104117 \nL 405.19471 183.104117 \nL 406.47179 178.45761 \nL 407.748869 178.45761 \nL 409.025948 180.493903 \nL 410.303028 180.493903 \nL 411.580107 175.00519 \nL 412.857187 175.00519 \nL 414.134266 195.01122 \nL 415.411345 195.01122 \nL 416.688425 185.444203 \nL 417.965504 185.444203 \nL 419.242583 186.172486 \nL 420.519663 186.172486 \nL 421.796742 179.512817 \nL 423.073821 179.512817 \nL 424.350901 176.110599 \nL 425.62798 176.110599 \nL 426.90506 193.234882 \nL 428.182139 193.234882 \nL 429.459218 185.216309 \nL 430.736298 185.216309 \nL 432.013377 181.766849 \nL 433.290456 181.766849 \nL 434.567536 175.049008 \nL 435.844615 175.049008 \nL 437.121694 188.083814 \nL 438.398774 188.083814 \nL 439.675853 180.70957 \nL 440.952933 180.70957 \nL 442.230012 176.81909 \nL 443.507091 176.81909 \nL 444.784171 173.196676 \nL 446.06125 173.196676 \nL 447.338329 158.721239 \nL 448.615409 158.721239 \nL 449.892488 181.188935 \nL 451.169567 181.188935 \nL 452.446647 173.574033 \nL 453.723726 173.574033 \nL 454.26125 175.757652 \nL 454.26125 175.757652 \n\" clip-path=\"url(#p834d2401a8)\" style=\"fill: none; stroke: #1f77b4; stroke-width: 1.5; stroke-linecap: square\"/>\n   </g>\n   <g id=\"line2d_14\">\n    <path d=\"M 43.78125 284.54231 \nL 45.058329 284.54231 \nL 46.335409 285.422856 \nL 47.612488 285.422856 \nL 48.889567 284.944019 \nL 50.166647 284.944019 \nL 51.443726 285.39151 \nL 55.274964 285.349822 \nL 56.552044 284.355344 \nL 57.829123 284.355344 \nL 59.106202 284.875868 \nL 60.383282 284.875868 \nL 61.660361 285.327288 \nL 62.93744 285.327288 \nL 64.21452 284.589615 \nL 65.491599 284.589615 \nL 66.768679 283.824986 \nL 68.045758 283.824986 \nL 69.322837 284.645116 \nL 73.154075 284.635934 \nL 74.431155 283.418857 \nL 75.708234 283.418857 \nL 76.985313 284.305474 \nL 78.262393 284.305474 \nL 79.539472 283.442864 \nL 80.816552 283.442864 \nL 82.093631 283.819152 \nL 83.37071 283.819152 \nL 84.64779 283.565618 \nL 85.924869 283.565618 \nL 87.201948 284.285582 \nL 91.033187 284.242592 \nL 92.310266 284.121069 \nL 93.587345 284.121069 \nL 94.864425 284.001974 \nL 98.695663 283.952892 \nL 99.972742 283.454058 \nL 101.249821 283.454058 \nL 102.526901 283.194833 \nL 103.80398 283.194833 \nL 105.08106 284.542725 \nL 106.358139 284.542725 \nL 107.635218 285.676346 \nL 108.912298 285.676346 \nL 110.189377 286.24178 \nL 111.466456 286.24178 \nL 112.743536 284.432103 \nL 114.020615 284.432103 \nL 115.297694 285.808398 \nL 116.574774 285.808398 \nL 117.851853 286.553779 \nL 119.128933 286.553779 \nL 120.406012 283.682482 \nL 121.683091 283.682482 \nL 122.960171 286.665535 \nL 124.23725 286.665535 \nL 125.514329 283.604231 \nL 126.791409 283.604231 \nL 128.068488 285.984926 \nL 129.345567 285.984926 \nL 130.622647 285.665264 \nL 131.899726 285.665264 \nL 133.176806 285.352298 \nL 134.453885 285.352298 \nL 135.730964 286.710607 \nL 137.008044 286.710607 \nL 138.285123 285.495586 \nL 139.562202 285.495586 \nL 140.839282 283.882125 \nL 142.116361 283.882125 \nL 143.39344 285.662252 \nL 144.67052 285.662252 \nL 145.947599 284.721777 \nL 147.224679 284.721777 \nL 148.501758 286.112504 \nL 149.778837 286.112504 \nL 151.055917 284.964315 \nL 152.332996 284.964315 \nL 153.610075 282.043401 \nL 154.887155 282.043401 \nL 156.164234 283.639821 \nL 157.441313 283.639821 \nL 158.718393 283.190441 \nL 159.995472 283.190441 \nL 161.272552 282.089639 \nL 162.549631 282.089639 \nL 163.82671 280.007195 \nL 165.10379 280.007195 \nL 166.380869 277.862558 \nL 167.657948 277.862558 \nL 168.935028 279.831835 \nL 170.212107 279.831835 \nL 171.489187 283.443215 \nL 172.766266 283.443215 \nL 174.043345 284.353096 \nL 175.320425 284.353096 \nL 176.597504 282.464067 \nL 177.874583 282.464067 \nL 179.151663 281.116174 \nL 180.428742 281.116174 \nL 181.705821 283.044058 \nL 182.982901 283.044058 \nL 184.25998 284.786731 \nL 185.53706 284.786731 \nL 186.814139 275.191893 \nL 188.091218 275.191893 \nL 189.368298 273.743501 \nL 190.645377 273.743501 \nL 191.922456 275.404101 \nL 193.199536 275.404101 \nL 194.476615 275.76408 \nL 195.753694 275.76408 \nL 197.030774 282.759494 \nL 198.307853 282.759494 \nL 199.584933 285.403097 \nL 200.862012 285.403097 \nL 202.139091 282.256982 \nL 203.416171 282.256982 \nL 204.69325 255.204754 \nL 205.970329 255.204754 \nL 207.247409 232.581893 \nL 208.524488 232.581893 \nL 209.801567 274.490165 \nL 211.078647 274.490165 \nL 212.355726 285.627966 \nL 213.632806 285.627966 \nL 214.909885 286.343384 \nL 216.186964 286.343384 \nL 217.464044 282.2031 \nL 221.295282 282.107212 \nL 222.572361 280.560452 \nL 223.84944 280.560452 \nL 225.12652 281.56335 \nL 226.403599 281.56335 \nL 227.680679 284.083216 \nL 228.957758 284.083216 \nL 230.234837 286.607137 \nL 234.066075 286.696036 \nL 235.343155 283.447773 \nL 236.620234 283.447773 \nL 237.897313 283.035357 \nL 239.174393 283.035357 \nL 240.451472 281.717873 \nL 241.728552 281.717873 \nL 243.005631 275.698095 \nL 244.28271 275.698095 \nL 245.55979 273.264743 \nL 246.836869 273.264743 \nL 248.113948 272.913634 \nL 249.391028 272.913634 \nL 250.668107 269.545948 \nL 251.945187 269.545948 \nL 253.222266 270.398965 \nL 254.499345 270.398965 \nL 255.776425 270.846078 \nL 257.053504 270.846078 \nL 258.330583 271.504113 \nL 259.607663 271.504113 \nL 260.884742 274.091843 \nL 262.161821 274.091843 \nL 263.438901 273.390391 \nL 264.71598 273.390391 \nL 265.99306 275.958275 \nL 267.270139 275.958275 \nL 268.547218 277.025199 \nL 269.824298 277.025199 \nL 271.101377 281.578201 \nL 272.378456 281.578201 \nL 273.655536 279.587767 \nL 274.932615 279.587767 \nL 276.209694 278.854997 \nL 277.486774 278.854997 \nL 278.763853 279.316821 \nL 280.040933 279.316821 \nL 281.318012 274.898366 \nL 282.595091 274.898366 \nL 283.872171 277.698104 \nL 285.14925 277.698104 \nL 286.426329 286.729091 \nL 287.703409 286.729091 \nL 288.980488 283.67455 \nL 290.257567 283.67455 \nL 291.534647 279.797103 \nL 292.811726 279.797103 \nL 294.088806 280.493815 \nL 295.365885 280.493815 \nL 296.642964 274.894726 \nL 297.920044 274.894726 \nL 299.197123 281.825868 \nL 300.474202 281.825868 \nL 301.751282 278.516977 \nL 303.028361 278.516977 \nL 304.30544 272.163794 \nL 305.58252 272.163794 \nL 306.859599 268.996371 \nL 308.136679 268.996371 \nL 309.413758 275.876593 \nL 310.690837 275.876593 \nL 311.967917 282.704497 \nL 313.244996 282.704497 \nL 314.522075 277.21179 \nL 315.799155 277.21179 \nL 317.076234 270.417482 \nL 318.353313 270.417482 \nL 319.630393 272.986663 \nL 320.907472 272.986663 \nL 322.184552 280.206226 \nL 323.461631 280.206226 \nL 324.73871 274.247928 \nL 326.01579 274.247928 \nL 327.292869 275.964856 \nL 328.569948 275.964856 \nL 329.847028 274.949236 \nL 331.124107 274.949236 \nL 332.401187 277.423504 \nL 333.678266 277.423504 \nL 334.955345 276.582417 \nL 338.786583 276.568271 \nL 340.063663 275.647655 \nL 341.340742 275.647655 \nL 342.617821 275.963293 \nL 343.894901 275.963293 \nL 345.17198 276.525603 \nL 346.44906 276.525603 \nL 347.726139 273.966992 \nL 349.003218 273.966992 \nL 350.280298 274.946833 \nL 351.557377 274.946833 \nL 352.834456 275.515675 \nL 354.111536 275.515675 \nL 355.388615 274.329098 \nL 356.665694 274.329098 \nL 357.942774 277.648089 \nL 359.219853 277.648089 \nL 360.496933 273.245626 \nL 361.774012 273.245626 \nL 363.051091 271.679901 \nL 364.328171 271.679901 \nL 365.60525 272.642924 \nL 366.882329 272.642924 \nL 368.159409 278.084774 \nL 369.436488 278.084774 \nL 370.713567 274.959052 \nL 371.990647 274.959052 \nL 373.267726 277.110696 \nL 374.544806 277.110696 \nL 375.821885 280.246341 \nL 377.098964 280.246341 \nL 378.376044 275.390547 \nL 379.653123 275.390547 \nL 380.930202 271.61712 \nL 382.207282 271.61712 \nL 383.484361 275.280645 \nL 384.76144 275.280645 \nL 386.03852 277.672178 \nL 387.315599 277.672178 \nL 388.592679 276.832112 \nL 389.869758 276.832112 \nL 391.146837 276.715691 \nL 392.423917 276.715691 \nL 393.700996 277.242854 \nL 394.978075 277.242854 \nL 396.255155 276.57063 \nL 397.532234 276.57063 \nL 398.809313 273.968735 \nL 400.086393 273.968735 \nL 401.363472 275.33441 \nL 402.640552 275.33441 \nL 403.917631 277.90438 \nL 405.19471 277.90438 \nL 406.47179 275.635724 \nL 407.748869 275.635724 \nL 409.025948 274.874223 \nL 410.303028 274.874223 \nL 411.580107 275.375112 \nL 412.857187 275.375112 \nL 414.134266 279.610751 \nL 415.411345 279.610751 \nL 416.688425 278.941805 \nL 417.965504 278.941805 \nL 419.242583 276.206108 \nL 420.519663 276.206108 \nL 421.796742 270.250827 \nL 423.073821 270.250827 \nL 424.350901 267.664181 \nL 425.62798 267.664181 \nL 426.90506 272.866184 \nL 428.182139 272.866184 \nL 429.459218 274.987319 \nL 430.736298 274.987319 \nL 432.013377 273.178741 \nL 433.290456 273.178741 \nL 434.567536 271.047248 \nL 435.844615 271.047248 \nL 437.121694 271.617619 \nL 438.398774 271.617619 \nL 439.675853 276.051224 \nL 440.952933 276.051224 \nL 442.230012 273.937608 \nL 443.507091 273.937608 \nL 444.784171 271.808905 \nL 448.615409 271.732616 \nL 449.892488 275.90337 \nL 451.169567 275.90337 \nL 452.446647 280.066404 \nL 453.723726 280.066404 \nL 454.26125 279.000728 \nL 454.26125 279.000728 \n\" clip-path=\"url(#p834d2401a8)\" style=\"fill: none; stroke: #ff7f0e; stroke-width: 1.5; stroke-linecap: square\"/>\n   </g>\n   <g id=\"patch_3\">\n    <path d=\"M 43.78125 300.04 \nL 43.78125 7.2 \n\" style=\"fill: none; stroke: #000000; stroke-width: 0.8; stroke-linejoin: miter; stroke-linecap: square\"/>\n   </g>\n   <g id=\"patch_4\">\n    <path d=\"M 446.06125 300.04 \nL 446.06125 7.2 \n\" style=\"fill: none; stroke: #000000; stroke-width: 0.8; stroke-linejoin: miter; stroke-linecap: square\"/>\n   </g>\n   <g id=\"patch_5\">\n    <path d=\"M 43.78125 300.04 \nL 446.06125 300.04 \n\" style=\"fill: none; stroke: #000000; stroke-width: 0.8; stroke-linejoin: miter; stroke-linecap: square\"/>\n   </g>\n   <g id=\"patch_6\">\n    <path d=\"M 43.78125 7.2 \nL 446.06125 7.2 \n\" style=\"fill: none; stroke: #000000; stroke-width: 0.8; stroke-linejoin: miter; stroke-linecap: square\"/>\n   </g>\n   <g id=\"legend_1\">\n    <g id=\"patch_7\">\n     <path d=\"M 341.469062 44.55625 \nL 439.06125 44.55625 \nQ 441.06125 44.55625 441.06125 42.55625 \nL 441.06125 14.2 \nQ 441.06125 12.2 439.06125 12.2 \nL 341.469062 12.2 \nQ 339.469062 12.2 339.469062 14.2 \nL 339.469062 42.55625 \nQ 339.469062 44.55625 341.469062 44.55625 \nz\n\" style=\"fill: #ffffff; opacity: 0.8; stroke: #cccccc; stroke-linejoin: miter\"/>\n    </g>\n    <g id=\"line2d_15\">\n     <path d=\"M 343.469062 20.298437 \nL 353.469062 20.298437 \nL 363.469062 20.298437 \n\" style=\"fill: none; stroke: #1f77b4; stroke-width: 1.5; stroke-linecap: square\"/>\n    </g>\n    <g id=\"text_15\">\n     <!-- no calib. -->\n     <g transform=\"translate(371.469062 23.798437) scale(0.1 -0.1)\">\n      <defs>\n       <path id=\"DejaVuSans-6c\" d=\"M 603 4863 \nL 1178 4863 \nL 1178 0 \nL 603 0 \nL 603 4863 \nz\n\" transform=\"scale(0.015625)\"/>\n       <path id=\"DejaVuSans-62\" d=\"M 3116 1747 \nQ 3116 2381 2855 2742 \nQ 2594 3103 2138 3103 \nQ 1681 3103 1420 2742 \nQ 1159 2381 1159 1747 \nQ 1159 1113 1420 752 \nQ 1681 391 2138 391 \nQ 2594 391 2855 752 \nQ 3116 1113 3116 1747 \nz\nM 1159 2969 \nQ 1341 3281 1617 3432 \nQ 1894 3584 2278 3584 \nQ 2916 3584 3314 3078 \nQ 3713 2572 3713 1747 \nQ 3713 922 3314 415 \nQ 2916 -91 2278 -91 \nQ 1894 -91 1617 61 \nQ 1341 213 1159 525 \nL 1159 0 \nL 581 0 \nL 581 4863 \nL 1159 4863 \nL 1159 2969 \nz\n\" transform=\"scale(0.015625)\"/>\n      </defs>\n      <use xlink:href=\"#DejaVuSans-6e\"/>\n      <use xlink:href=\"#DejaVuSans-6f\" x=\"63.378906\"/>\n      <use xlink:href=\"#DejaVuSans-20\" x=\"124.560547\"/>\n      <use xlink:href=\"#DejaVuSans-63\" x=\"156.347656\"/>\n      <use xlink:href=\"#DejaVuSans-61\" x=\"211.328125\"/>\n      <use xlink:href=\"#DejaVuSans-6c\" x=\"272.607422\"/>\n      <use xlink:href=\"#DejaVuSans-69\" x=\"300.390625\"/>\n      <use xlink:href=\"#DejaVuSans-62\" x=\"328.173828\"/>\n      <use xlink:href=\"#DejaVuSans-2e\" x=\"391.650391\"/>\n     </g>\n    </g>\n    <g id=\"line2d_16\">\n     <path d=\"M 343.469062 34.976562 \nL 353.469062 34.976562 \nL 363.469062 34.976562 \n\" style=\"fill: none; stroke: #ff7f0e; stroke-width: 1.5; stroke-linecap: square\"/>\n    </g>\n    <g id=\"text_16\">\n     <!-- perfect calib. -->\n     <g transform=\"translate(371.469062 38.476562) scale(0.1 -0.1)\">\n      <defs>\n       <path id=\"DejaVuSans-70\" d=\"M 1159 525 \nL 1159 -1331 \nL 581 -1331 \nL 581 3500 \nL 1159 3500 \nL 1159 2969 \nQ 1341 3281 1617 3432 \nQ 1894 3584 2278 3584 \nQ 2916 3584 3314 3078 \nQ 3713 2572 3713 1747 \nQ 3713 922 3314 415 \nQ 2916 -91 2278 -91 \nQ 1894 -91 1617 61 \nQ 1341 213 1159 525 \nz\nM 3116 1747 \nQ 3116 2381 2855 2742 \nQ 2594 3103 2138 3103 \nQ 1681 3103 1420 2742 \nQ 1159 2381 1159 1747 \nQ 1159 1113 1420 752 \nQ 1681 391 2138 391 \nQ 2594 391 2855 752 \nQ 3116 1113 3116 1747 \nz\n\" transform=\"scale(0.015625)\"/>\n       <path id=\"DejaVuSans-66\" d=\"M 2375 4863 \nL 2375 4384 \nL 1825 4384 \nQ 1516 4384 1395 4259 \nQ 1275 4134 1275 3809 \nL 1275 3500 \nL 2222 3500 \nL 2222 3053 \nL 1275 3053 \nL 1275 0 \nL 697 0 \nL 697 3053 \nL 147 3053 \nL 147 3500 \nL 697 3500 \nL 697 3744 \nQ 697 4328 969 4595 \nQ 1241 4863 1831 4863 \nL 2375 4863 \nz\n\" transform=\"scale(0.015625)\"/>\n      </defs>\n      <use xlink:href=\"#DejaVuSans-70\"/>\n      <use xlink:href=\"#DejaVuSans-65\" x=\"63.476562\"/>\n      <use xlink:href=\"#DejaVuSans-72\" x=\"125\"/>\n      <use xlink:href=\"#DejaVuSans-66\" x=\"166.113281\"/>\n      <use xlink:href=\"#DejaVuSans-65\" x=\"201.318359\"/>\n      <use xlink:href=\"#DejaVuSans-63\" x=\"262.841797\"/>\n      <use xlink:href=\"#DejaVuSans-74\" x=\"317.822266\"/>\n      <use xlink:href=\"#DejaVuSans-20\" x=\"357.03125\"/>\n      <use xlink:href=\"#DejaVuSans-63\" x=\"388.818359\"/>\n      <use xlink:href=\"#DejaVuSans-61\" x=\"443.798828\"/>\n      <use xlink:href=\"#DejaVuSans-6c\" x=\"505.078125\"/>\n      <use xlink:href=\"#DejaVuSans-69\" x=\"532.861328\"/>\n      <use xlink:href=\"#DejaVuSans-62\" x=\"560.644531\"/>\n      <use xlink:href=\"#DejaVuSans-2e\" x=\"624.121094\"/>\n     </g>\n    </g>\n   </g>\n  </g>\n </g>\n <defs>\n  <clipPath id=\"p834d2401a8\">\n   <rect x=\"43.78125\" y=\"7.2\" width=\"402.28\" height=\"292.84\"/>\n  </clipPath>\n </defs>\n</svg>\n",
      "text/plain": [
       "<Figure size 640x480 with 1 Axes>"
      ]
     },
     "metadata": {},
     "output_type": "display_data"
    }
   ],
   "source": [
    "get_time = lambda x: np.array(range(len(x)))/30\n",
    "plt.plot(get_time(cte_no_calib), cte_no_calib, label=\"no calib.\")\n",
    "plt.plot(get_time(cte_perfect_calib), cte_perfect_calib, label=\"perfect calib.\")\n",
    "plt.legend()\n",
    "plt.xlabel(\"Time (seconds)\")\n",
    "plt.ylabel(\"Cross Track Error (meters)\")\n",
    "plt.xlim(0,10.5)\n",
    "plt.tight_layout()"
   ]
  },
  {
   "cell_type": "markdown",
   "metadata": {},
   "source": [
    "As you can see in the plot, having no calibration at all makes the vehicle leave the center of the lane until it has a constant offset of around 40 cm from the middle of the lane. Why does this happen? The wrong yaw and pitch values lead to the computation of a wrong reference path, which is then passed to the controller.  In case of *perfect calibration* the results looks different. Here, the vehicle stays in the middle of the lane within an error of around 5 cm (except for one small disturbance at around 4 seconds which is due to a bad detection of the neural network).\n",
    "\n",
    "But as already mentioned, in the real world we do not know the exact mounting of the camera. So what we will need to do is to estimate the mounting. In this chapter you will learn how to estimate the pitch and yaw angle. The method you will learn leads to simulation results denoted as \"VP calib.\" in the plot below:"
   ]
  },
  {
   "cell_type": "code",
   "execution_count": 3,
   "metadata": {
    "scrolled": true,
    "tags": [
     "remove-input"
    ]
   },
   "outputs": [
    {
     "data": {
      "image/svg+xml": "<?xml version=\"1.0\" encoding=\"utf-8\" standalone=\"no\"?>\n<!DOCTYPE svg PUBLIC \"-//W3C//DTD SVG 1.1//EN\"\n  \"http://www.w3.org/Graphics/SVG/1.1/DTD/svg11.dtd\">\n<svg xmlns:xlink=\"http://www.w3.org/1999/xlink\" width=\"453.26125pt\" height=\"337.59625pt\" viewBox=\"0 0 453.26125 337.59625\" xmlns=\"http://www.w3.org/2000/svg\" version=\"1.1\">\n <metadata>\n  <rdf:RDF xmlns:dc=\"http://purl.org/dc/elements/1.1/\" xmlns:cc=\"http://creativecommons.org/ns#\" xmlns:rdf=\"http://www.w3.org/1999/02/22-rdf-syntax-ns#\">\n   <cc:Work>\n    <dc:type rdf:resource=\"http://purl.org/dc/dcmitype/StillImage\"/>\n    <dc:date>2023-01-07T04:02:52.176254</dc:date>\n    <dc:format>image/svg+xml</dc:format>\n    <dc:creator>\n     <cc:Agent>\n      <dc:title>Matplotlib v3.6.2, https://matplotlib.org/</dc:title>\n     </cc:Agent>\n    </dc:creator>\n   </cc:Work>\n  </rdf:RDF>\n </metadata>\n <defs>\n  <style type=\"text/css\">*{stroke-linejoin: round; stroke-linecap: butt}</style>\n </defs>\n <g id=\"figure_1\">\n  <g id=\"patch_1\">\n   <path d=\"M 0 337.59625 \nL 453.26125 337.59625 \nL 453.26125 0 \nL 0 0 \nz\n\" style=\"fill: #ffffff\"/>\n  </g>\n  <g id=\"axes_1\">\n   <g id=\"patch_2\">\n    <path d=\"M 43.78125 300.04 \nL 446.06125 300.04 \nL 446.06125 7.2 \nL 43.78125 7.2 \nz\n\" style=\"fill: #ffffff\"/>\n   </g>\n   <g id=\"matplotlib.axis_1\">\n    <g id=\"xtick_1\">\n     <g id=\"line2d_1\">\n      <defs>\n       <path id=\"mbc545080b4\" d=\"M 0 0 \nL 0 3.5 \n\" style=\"stroke: #000000; stroke-width: 0.8\"/>\n      </defs>\n      <g>\n       <use xlink:href=\"#mbc545080b4\" x=\"43.78125\" y=\"300.04\" style=\"stroke: #000000; stroke-width: 0.8\"/>\n      </g>\n     </g>\n     <g id=\"text_1\">\n      <!-- 0 -->\n      <g transform=\"translate(40.6 314.638437) scale(0.1 -0.1)\">\n       <defs>\n        <path id=\"DejaVuSans-30\" d=\"M 2034 4250 \nQ 1547 4250 1301 3770 \nQ 1056 3291 1056 2328 \nQ 1056 1369 1301 889 \nQ 1547 409 2034 409 \nQ 2525 409 2770 889 \nQ 3016 1369 3016 2328 \nQ 3016 3291 2770 3770 \nQ 2525 4250 2034 4250 \nz\nM 2034 4750 \nQ 2819 4750 3233 4129 \nQ 3647 3509 3647 2328 \nQ 3647 1150 3233 529 \nQ 2819 -91 2034 -91 \nQ 1250 -91 836 529 \nQ 422 1150 422 2328 \nQ 422 3509 836 4129 \nQ 1250 4750 2034 4750 \nz\n\" transform=\"scale(0.015625)\"/>\n       </defs>\n       <use xlink:href=\"#DejaVuSans-30\"/>\n      </g>\n     </g>\n    </g>\n    <g id=\"xtick_2\">\n     <g id=\"line2d_2\">\n      <g>\n       <use xlink:href=\"#mbc545080b4\" x=\"120.406012\" y=\"300.04\" style=\"stroke: #000000; stroke-width: 0.8\"/>\n      </g>\n     </g>\n     <g id=\"text_2\">\n      <!-- 2 -->\n      <g transform=\"translate(117.224762 314.638437) scale(0.1 -0.1)\">\n       <defs>\n        <path id=\"DejaVuSans-32\" d=\"M 1228 531 \nL 3431 531 \nL 3431 0 \nL 469 0 \nL 469 531 \nQ 828 903 1448 1529 \nQ 2069 2156 2228 2338 \nQ 2531 2678 2651 2914 \nQ 2772 3150 2772 3378 \nQ 2772 3750 2511 3984 \nQ 2250 4219 1831 4219 \nQ 1534 4219 1204 4116 \nQ 875 4013 500 3803 \nL 500 4441 \nQ 881 4594 1212 4672 \nQ 1544 4750 1819 4750 \nQ 2544 4750 2975 4387 \nQ 3406 4025 3406 3419 \nQ 3406 3131 3298 2873 \nQ 3191 2616 2906 2266 \nQ 2828 2175 2409 1742 \nQ 1991 1309 1228 531 \nz\n\" transform=\"scale(0.015625)\"/>\n       </defs>\n       <use xlink:href=\"#DejaVuSans-32\"/>\n      </g>\n     </g>\n    </g>\n    <g id=\"xtick_3\">\n     <g id=\"line2d_3\">\n      <g>\n       <use xlink:href=\"#mbc545080b4\" x=\"197.030774\" y=\"300.04\" style=\"stroke: #000000; stroke-width: 0.8\"/>\n      </g>\n     </g>\n     <g id=\"text_3\">\n      <!-- 4 -->\n      <g transform=\"translate(193.849524 314.638437) scale(0.1 -0.1)\">\n       <defs>\n        <path id=\"DejaVuSans-34\" d=\"M 2419 4116 \nL 825 1625 \nL 2419 1625 \nL 2419 4116 \nz\nM 2253 4666 \nL 3047 4666 \nL 3047 1625 \nL 3713 1625 \nL 3713 1100 \nL 3047 1100 \nL 3047 0 \nL 2419 0 \nL 2419 1100 \nL 313 1100 \nL 313 1709 \nL 2253 4666 \nz\n\" transform=\"scale(0.015625)\"/>\n       </defs>\n       <use xlink:href=\"#DejaVuSans-34\"/>\n      </g>\n     </g>\n    </g>\n    <g id=\"xtick_4\">\n     <g id=\"line2d_4\">\n      <g>\n       <use xlink:href=\"#mbc545080b4\" x=\"273.655536\" y=\"300.04\" style=\"stroke: #000000; stroke-width: 0.8\"/>\n      </g>\n     </g>\n     <g id=\"text_4\">\n      <!-- 6 -->\n      <g transform=\"translate(270.474286 314.638437) scale(0.1 -0.1)\">\n       <defs>\n        <path id=\"DejaVuSans-36\" d=\"M 2113 2584 \nQ 1688 2584 1439 2293 \nQ 1191 2003 1191 1497 \nQ 1191 994 1439 701 \nQ 1688 409 2113 409 \nQ 2538 409 2786 701 \nQ 3034 994 3034 1497 \nQ 3034 2003 2786 2293 \nQ 2538 2584 2113 2584 \nz\nM 3366 4563 \nL 3366 3988 \nQ 3128 4100 2886 4159 \nQ 2644 4219 2406 4219 \nQ 1781 4219 1451 3797 \nQ 1122 3375 1075 2522 \nQ 1259 2794 1537 2939 \nQ 1816 3084 2150 3084 \nQ 2853 3084 3261 2657 \nQ 3669 2231 3669 1497 \nQ 3669 778 3244 343 \nQ 2819 -91 2113 -91 \nQ 1303 -91 875 529 \nQ 447 1150 447 2328 \nQ 447 3434 972 4092 \nQ 1497 4750 2381 4750 \nQ 2619 4750 2861 4703 \nQ 3103 4656 3366 4563 \nz\n\" transform=\"scale(0.015625)\"/>\n       </defs>\n       <use xlink:href=\"#DejaVuSans-36\"/>\n      </g>\n     </g>\n    </g>\n    <g id=\"xtick_5\">\n     <g id=\"line2d_5\">\n      <g>\n       <use xlink:href=\"#mbc545080b4\" x=\"350.280298\" y=\"300.04\" style=\"stroke: #000000; stroke-width: 0.8\"/>\n      </g>\n     </g>\n     <g id=\"text_5\">\n      <!-- 8 -->\n      <g transform=\"translate(347.099048 314.638437) scale(0.1 -0.1)\">\n       <defs>\n        <path id=\"DejaVuSans-38\" d=\"M 2034 2216 \nQ 1584 2216 1326 1975 \nQ 1069 1734 1069 1313 \nQ 1069 891 1326 650 \nQ 1584 409 2034 409 \nQ 2484 409 2743 651 \nQ 3003 894 3003 1313 \nQ 3003 1734 2745 1975 \nQ 2488 2216 2034 2216 \nz\nM 1403 2484 \nQ 997 2584 770 2862 \nQ 544 3141 544 3541 \nQ 544 4100 942 4425 \nQ 1341 4750 2034 4750 \nQ 2731 4750 3128 4425 \nQ 3525 4100 3525 3541 \nQ 3525 3141 3298 2862 \nQ 3072 2584 2669 2484 \nQ 3125 2378 3379 2068 \nQ 3634 1759 3634 1313 \nQ 3634 634 3220 271 \nQ 2806 -91 2034 -91 \nQ 1263 -91 848 271 \nQ 434 634 434 1313 \nQ 434 1759 690 2068 \nQ 947 2378 1403 2484 \nz\nM 1172 3481 \nQ 1172 3119 1398 2916 \nQ 1625 2713 2034 2713 \nQ 2441 2713 2670 2916 \nQ 2900 3119 2900 3481 \nQ 2900 3844 2670 4047 \nQ 2441 4250 2034 4250 \nQ 1625 4250 1398 4047 \nQ 1172 3844 1172 3481 \nz\n\" transform=\"scale(0.015625)\"/>\n       </defs>\n       <use xlink:href=\"#DejaVuSans-38\"/>\n      </g>\n     </g>\n    </g>\n    <g id=\"xtick_6\">\n     <g id=\"line2d_6\">\n      <g>\n       <use xlink:href=\"#mbc545080b4\" x=\"426.90506\" y=\"300.04\" style=\"stroke: #000000; stroke-width: 0.8\"/>\n      </g>\n     </g>\n     <g id=\"text_6\">\n      <!-- 10 -->\n      <g transform=\"translate(420.54256 314.638437) scale(0.1 -0.1)\">\n       <defs>\n        <path id=\"DejaVuSans-31\" d=\"M 794 531 \nL 1825 531 \nL 1825 4091 \nL 703 3866 \nL 703 4441 \nL 1819 4666 \nL 2450 4666 \nL 2450 531 \nL 3481 531 \nL 3481 0 \nL 794 0 \nL 794 531 \nz\n\" transform=\"scale(0.015625)\"/>\n       </defs>\n       <use xlink:href=\"#DejaVuSans-31\"/>\n       <use xlink:href=\"#DejaVuSans-30\" x=\"63.623047\"/>\n      </g>\n     </g>\n    </g>\n    <g id=\"text_7\">\n     <!-- Time (seconds) -->\n     <g transform=\"translate(206.759531 328.316562) scale(0.1 -0.1)\">\n      <defs>\n       <path id=\"DejaVuSans-54\" d=\"M -19 4666 \nL 3928 4666 \nL 3928 4134 \nL 2272 4134 \nL 2272 0 \nL 1638 0 \nL 1638 4134 \nL -19 4134 \nL -19 4666 \nz\n\" transform=\"scale(0.015625)\"/>\n       <path id=\"DejaVuSans-69\" d=\"M 603 3500 \nL 1178 3500 \nL 1178 0 \nL 603 0 \nL 603 3500 \nz\nM 603 4863 \nL 1178 4863 \nL 1178 4134 \nL 603 4134 \nL 603 4863 \nz\n\" transform=\"scale(0.015625)\"/>\n       <path id=\"DejaVuSans-6d\" d=\"M 3328 2828 \nQ 3544 3216 3844 3400 \nQ 4144 3584 4550 3584 \nQ 5097 3584 5394 3201 \nQ 5691 2819 5691 2113 \nL 5691 0 \nL 5113 0 \nL 5113 2094 \nQ 5113 2597 4934 2840 \nQ 4756 3084 4391 3084 \nQ 3944 3084 3684 2787 \nQ 3425 2491 3425 1978 \nL 3425 0 \nL 2847 0 \nL 2847 2094 \nQ 2847 2600 2669 2842 \nQ 2491 3084 2119 3084 \nQ 1678 3084 1418 2786 \nQ 1159 2488 1159 1978 \nL 1159 0 \nL 581 0 \nL 581 3500 \nL 1159 3500 \nL 1159 2956 \nQ 1356 3278 1631 3431 \nQ 1906 3584 2284 3584 \nQ 2666 3584 2933 3390 \nQ 3200 3197 3328 2828 \nz\n\" transform=\"scale(0.015625)\"/>\n       <path id=\"DejaVuSans-65\" d=\"M 3597 1894 \nL 3597 1613 \nL 953 1613 \nQ 991 1019 1311 708 \nQ 1631 397 2203 397 \nQ 2534 397 2845 478 \nQ 3156 559 3463 722 \nL 3463 178 \nQ 3153 47 2828 -22 \nQ 2503 -91 2169 -91 \nQ 1331 -91 842 396 \nQ 353 884 353 1716 \nQ 353 2575 817 3079 \nQ 1281 3584 2069 3584 \nQ 2775 3584 3186 3129 \nQ 3597 2675 3597 1894 \nz\nM 3022 2063 \nQ 3016 2534 2758 2815 \nQ 2500 3097 2075 3097 \nQ 1594 3097 1305 2825 \nQ 1016 2553 972 2059 \nL 3022 2063 \nz\n\" transform=\"scale(0.015625)\"/>\n       <path id=\"DejaVuSans-20\" transform=\"scale(0.015625)\"/>\n       <path id=\"DejaVuSans-28\" d=\"M 1984 4856 \nQ 1566 4138 1362 3434 \nQ 1159 2731 1159 2009 \nQ 1159 1288 1364 580 \nQ 1569 -128 1984 -844 \nL 1484 -844 \nQ 1016 -109 783 600 \nQ 550 1309 550 2009 \nQ 550 2706 781 3412 \nQ 1013 4119 1484 4856 \nL 1984 4856 \nz\n\" transform=\"scale(0.015625)\"/>\n       <path id=\"DejaVuSans-73\" d=\"M 2834 3397 \nL 2834 2853 \nQ 2591 2978 2328 3040 \nQ 2066 3103 1784 3103 \nQ 1356 3103 1142 2972 \nQ 928 2841 928 2578 \nQ 928 2378 1081 2264 \nQ 1234 2150 1697 2047 \nL 1894 2003 \nQ 2506 1872 2764 1633 \nQ 3022 1394 3022 966 \nQ 3022 478 2636 193 \nQ 2250 -91 1575 -91 \nQ 1294 -91 989 -36 \nQ 684 19 347 128 \nL 347 722 \nQ 666 556 975 473 \nQ 1284 391 1588 391 \nQ 1994 391 2212 530 \nQ 2431 669 2431 922 \nQ 2431 1156 2273 1281 \nQ 2116 1406 1581 1522 \nL 1381 1569 \nQ 847 1681 609 1914 \nQ 372 2147 372 2553 \nQ 372 3047 722 3315 \nQ 1072 3584 1716 3584 \nQ 2034 3584 2315 3537 \nQ 2597 3491 2834 3397 \nz\n\" transform=\"scale(0.015625)\"/>\n       <path id=\"DejaVuSans-63\" d=\"M 3122 3366 \nL 3122 2828 \nQ 2878 2963 2633 3030 \nQ 2388 3097 2138 3097 \nQ 1578 3097 1268 2742 \nQ 959 2388 959 1747 \nQ 959 1106 1268 751 \nQ 1578 397 2138 397 \nQ 2388 397 2633 464 \nQ 2878 531 3122 666 \nL 3122 134 \nQ 2881 22 2623 -34 \nQ 2366 -91 2075 -91 \nQ 1284 -91 818 406 \nQ 353 903 353 1747 \nQ 353 2603 823 3093 \nQ 1294 3584 2113 3584 \nQ 2378 3584 2631 3529 \nQ 2884 3475 3122 3366 \nz\n\" transform=\"scale(0.015625)\"/>\n       <path id=\"DejaVuSans-6f\" d=\"M 1959 3097 \nQ 1497 3097 1228 2736 \nQ 959 2375 959 1747 \nQ 959 1119 1226 758 \nQ 1494 397 1959 397 \nQ 2419 397 2687 759 \nQ 2956 1122 2956 1747 \nQ 2956 2369 2687 2733 \nQ 2419 3097 1959 3097 \nz\nM 1959 3584 \nQ 2709 3584 3137 3096 \nQ 3566 2609 3566 1747 \nQ 3566 888 3137 398 \nQ 2709 -91 1959 -91 \nQ 1206 -91 779 398 \nQ 353 888 353 1747 \nQ 353 2609 779 3096 \nQ 1206 3584 1959 3584 \nz\n\" transform=\"scale(0.015625)\"/>\n       <path id=\"DejaVuSans-6e\" d=\"M 3513 2113 \nL 3513 0 \nL 2938 0 \nL 2938 2094 \nQ 2938 2591 2744 2837 \nQ 2550 3084 2163 3084 \nQ 1697 3084 1428 2787 \nQ 1159 2491 1159 1978 \nL 1159 0 \nL 581 0 \nL 581 3500 \nL 1159 3500 \nL 1159 2956 \nQ 1366 3272 1645 3428 \nQ 1925 3584 2291 3584 \nQ 2894 3584 3203 3211 \nQ 3513 2838 3513 2113 \nz\n\" transform=\"scale(0.015625)\"/>\n       <path id=\"DejaVuSans-64\" d=\"M 2906 2969 \nL 2906 4863 \nL 3481 4863 \nL 3481 0 \nL 2906 0 \nL 2906 525 \nQ 2725 213 2448 61 \nQ 2172 -91 1784 -91 \nQ 1150 -91 751 415 \nQ 353 922 353 1747 \nQ 353 2572 751 3078 \nQ 1150 3584 1784 3584 \nQ 2172 3584 2448 3432 \nQ 2725 3281 2906 2969 \nz\nM 947 1747 \nQ 947 1113 1208 752 \nQ 1469 391 1925 391 \nQ 2381 391 2643 752 \nQ 2906 1113 2906 1747 \nQ 2906 2381 2643 2742 \nQ 2381 3103 1925 3103 \nQ 1469 3103 1208 2742 \nQ 947 2381 947 1747 \nz\n\" transform=\"scale(0.015625)\"/>\n       <path id=\"DejaVuSans-29\" d=\"M 513 4856 \nL 1013 4856 \nQ 1481 4119 1714 3412 \nQ 1947 2706 1947 2009 \nQ 1947 1309 1714 600 \nQ 1481 -109 1013 -844 \nL 513 -844 \nQ 928 -128 1133 580 \nQ 1338 1288 1338 2009 \nQ 1338 2731 1133 3434 \nQ 928 4138 513 4856 \nz\n\" transform=\"scale(0.015625)\"/>\n      </defs>\n      <use xlink:href=\"#DejaVuSans-54\"/>\n      <use xlink:href=\"#DejaVuSans-69\" x=\"57.958984\"/>\n      <use xlink:href=\"#DejaVuSans-6d\" x=\"85.742188\"/>\n      <use xlink:href=\"#DejaVuSans-65\" x=\"183.154297\"/>\n      <use xlink:href=\"#DejaVuSans-20\" x=\"244.677734\"/>\n      <use xlink:href=\"#DejaVuSans-28\" x=\"276.464844\"/>\n      <use xlink:href=\"#DejaVuSans-73\" x=\"315.478516\"/>\n      <use xlink:href=\"#DejaVuSans-65\" x=\"367.578125\"/>\n      <use xlink:href=\"#DejaVuSans-63\" x=\"429.101562\"/>\n      <use xlink:href=\"#DejaVuSans-6f\" x=\"484.082031\"/>\n      <use xlink:href=\"#DejaVuSans-6e\" x=\"545.263672\"/>\n      <use xlink:href=\"#DejaVuSans-64\" x=\"608.642578\"/>\n      <use xlink:href=\"#DejaVuSans-73\" x=\"672.119141\"/>\n      <use xlink:href=\"#DejaVuSans-29\" x=\"724.21875\"/>\n     </g>\n    </g>\n   </g>\n   <g id=\"matplotlib.axis_2\">\n    <g id=\"ytick_1\">\n     <g id=\"line2d_7\">\n      <defs>\n       <path id=\"m92db78f941\" d=\"M 0 0 \nL -3.5 0 \n\" style=\"stroke: #000000; stroke-width: 0.8\"/>\n      </defs>\n      <g>\n       <use xlink:href=\"#m92db78f941\" x=\"43.78125\" y=\"286.75014\" style=\"stroke: #000000; stroke-width: 0.8\"/>\n      </g>\n     </g>\n     <g id=\"text_8\">\n      <!-- 0.0 -->\n      <g transform=\"translate(20.878125 290.549359) scale(0.1 -0.1)\">\n       <defs>\n        <path id=\"DejaVuSans-2e\" d=\"M 684 794 \nL 1344 794 \nL 1344 0 \nL 684 0 \nL 684 794 \nz\n\" transform=\"scale(0.015625)\"/>\n       </defs>\n       <use xlink:href=\"#DejaVuSans-30\"/>\n       <use xlink:href=\"#DejaVuSans-2e\" x=\"63.623047\"/>\n       <use xlink:href=\"#DejaVuSans-30\" x=\"95.410156\"/>\n      </g>\n     </g>\n    </g>\n    <g id=\"ytick_2\">\n     <g id=\"line2d_8\">\n      <g>\n       <use xlink:href=\"#m92db78f941\" x=\"43.78125\" y=\"233.318837\" style=\"stroke: #000000; stroke-width: 0.8\"/>\n      </g>\n     </g>\n     <g id=\"text_9\">\n      <!-- 0.2 -->\n      <g transform=\"translate(20.878125 237.118055) scale(0.1 -0.1)\">\n       <use xlink:href=\"#DejaVuSans-30\"/>\n       <use xlink:href=\"#DejaVuSans-2e\" x=\"63.623047\"/>\n       <use xlink:href=\"#DejaVuSans-32\" x=\"95.410156\"/>\n      </g>\n     </g>\n    </g>\n    <g id=\"ytick_3\">\n     <g id=\"line2d_9\">\n      <g>\n       <use xlink:href=\"#m92db78f941\" x=\"43.78125\" y=\"179.887533\" style=\"stroke: #000000; stroke-width: 0.8\"/>\n      </g>\n     </g>\n     <g id=\"text_10\">\n      <!-- 0.4 -->\n      <g transform=\"translate(20.878125 183.686752) scale(0.1 -0.1)\">\n       <use xlink:href=\"#DejaVuSans-30\"/>\n       <use xlink:href=\"#DejaVuSans-2e\" x=\"63.623047\"/>\n       <use xlink:href=\"#DejaVuSans-34\" x=\"95.410156\"/>\n      </g>\n     </g>\n    </g>\n    <g id=\"ytick_4\">\n     <g id=\"line2d_10\">\n      <g>\n       <use xlink:href=\"#m92db78f941\" x=\"43.78125\" y=\"126.45623\" style=\"stroke: #000000; stroke-width: 0.8\"/>\n      </g>\n     </g>\n     <g id=\"text_11\">\n      <!-- 0.6 -->\n      <g transform=\"translate(20.878125 130.255448) scale(0.1 -0.1)\">\n       <use xlink:href=\"#DejaVuSans-30\"/>\n       <use xlink:href=\"#DejaVuSans-2e\" x=\"63.623047\"/>\n       <use xlink:href=\"#DejaVuSans-36\" x=\"95.410156\"/>\n      </g>\n     </g>\n    </g>\n    <g id=\"ytick_5\">\n     <g id=\"line2d_11\">\n      <g>\n       <use xlink:href=\"#m92db78f941\" x=\"43.78125\" y=\"73.024926\" style=\"stroke: #000000; stroke-width: 0.8\"/>\n      </g>\n     </g>\n     <g id=\"text_12\">\n      <!-- 0.8 -->\n      <g transform=\"translate(20.878125 76.824145) scale(0.1 -0.1)\">\n       <use xlink:href=\"#DejaVuSans-30\"/>\n       <use xlink:href=\"#DejaVuSans-2e\" x=\"63.623047\"/>\n       <use xlink:href=\"#DejaVuSans-38\" x=\"95.410156\"/>\n      </g>\n     </g>\n    </g>\n    <g id=\"ytick_6\">\n     <g id=\"line2d_12\">\n      <g>\n       <use xlink:href=\"#m92db78f941\" x=\"43.78125\" y=\"19.593623\" style=\"stroke: #000000; stroke-width: 0.8\"/>\n      </g>\n     </g>\n     <g id=\"text_13\">\n      <!-- 1.0 -->\n      <g transform=\"translate(20.878125 23.392842) scale(0.1 -0.1)\">\n       <use xlink:href=\"#DejaVuSans-31\"/>\n       <use xlink:href=\"#DejaVuSans-2e\" x=\"63.623047\"/>\n       <use xlink:href=\"#DejaVuSans-30\" x=\"95.410156\"/>\n      </g>\n     </g>\n    </g>\n    <g id=\"text_14\">\n     <!-- Cross Track Error (meters) -->\n     <g transform=\"translate(14.798438 218.90125) rotate(-90) scale(0.1 -0.1)\">\n      <defs>\n       <path id=\"DejaVuSans-43\" d=\"M 4122 4306 \nL 4122 3641 \nQ 3803 3938 3442 4084 \nQ 3081 4231 2675 4231 \nQ 1875 4231 1450 3742 \nQ 1025 3253 1025 2328 \nQ 1025 1406 1450 917 \nQ 1875 428 2675 428 \nQ 3081 428 3442 575 \nQ 3803 722 4122 1019 \nL 4122 359 \nQ 3791 134 3420 21 \nQ 3050 -91 2638 -91 \nQ 1578 -91 968 557 \nQ 359 1206 359 2328 \nQ 359 3453 968 4101 \nQ 1578 4750 2638 4750 \nQ 3056 4750 3426 4639 \nQ 3797 4528 4122 4306 \nz\n\" transform=\"scale(0.015625)\"/>\n       <path id=\"DejaVuSans-72\" d=\"M 2631 2963 \nQ 2534 3019 2420 3045 \nQ 2306 3072 2169 3072 \nQ 1681 3072 1420 2755 \nQ 1159 2438 1159 1844 \nL 1159 0 \nL 581 0 \nL 581 3500 \nL 1159 3500 \nL 1159 2956 \nQ 1341 3275 1631 3429 \nQ 1922 3584 2338 3584 \nQ 2397 3584 2469 3576 \nQ 2541 3569 2628 3553 \nL 2631 2963 \nz\n\" transform=\"scale(0.015625)\"/>\n       <path id=\"DejaVuSans-61\" d=\"M 2194 1759 \nQ 1497 1759 1228 1600 \nQ 959 1441 959 1056 \nQ 959 750 1161 570 \nQ 1363 391 1709 391 \nQ 2188 391 2477 730 \nQ 2766 1069 2766 1631 \nL 2766 1759 \nL 2194 1759 \nz\nM 3341 1997 \nL 3341 0 \nL 2766 0 \nL 2766 531 \nQ 2569 213 2275 61 \nQ 1981 -91 1556 -91 \nQ 1019 -91 701 211 \nQ 384 513 384 1019 \nQ 384 1609 779 1909 \nQ 1175 2209 1959 2209 \nL 2766 2209 \nL 2766 2266 \nQ 2766 2663 2505 2880 \nQ 2244 3097 1772 3097 \nQ 1472 3097 1187 3025 \nQ 903 2953 641 2809 \nL 641 3341 \nQ 956 3463 1253 3523 \nQ 1550 3584 1831 3584 \nQ 2591 3584 2966 3190 \nQ 3341 2797 3341 1997 \nz\n\" transform=\"scale(0.015625)\"/>\n       <path id=\"DejaVuSans-6b\" d=\"M 581 4863 \nL 1159 4863 \nL 1159 1991 \nL 2875 3500 \nL 3609 3500 \nL 1753 1863 \nL 3688 0 \nL 2938 0 \nL 1159 1709 \nL 1159 0 \nL 581 0 \nL 581 4863 \nz\n\" transform=\"scale(0.015625)\"/>\n       <path id=\"DejaVuSans-45\" d=\"M 628 4666 \nL 3578 4666 \nL 3578 4134 \nL 1259 4134 \nL 1259 2753 \nL 3481 2753 \nL 3481 2222 \nL 1259 2222 \nL 1259 531 \nL 3634 531 \nL 3634 0 \nL 628 0 \nL 628 4666 \nz\n\" transform=\"scale(0.015625)\"/>\n       <path id=\"DejaVuSans-74\" d=\"M 1172 4494 \nL 1172 3500 \nL 2356 3500 \nL 2356 3053 \nL 1172 3053 \nL 1172 1153 \nQ 1172 725 1289 603 \nQ 1406 481 1766 481 \nL 2356 481 \nL 2356 0 \nL 1766 0 \nQ 1100 0 847 248 \nQ 594 497 594 1153 \nL 594 3053 \nL 172 3053 \nL 172 3500 \nL 594 3500 \nL 594 4494 \nL 1172 4494 \nz\n\" transform=\"scale(0.015625)\"/>\n      </defs>\n      <use xlink:href=\"#DejaVuSans-43\"/>\n      <use xlink:href=\"#DejaVuSans-72\" x=\"69.824219\"/>\n      <use xlink:href=\"#DejaVuSans-6f\" x=\"108.6875\"/>\n      <use xlink:href=\"#DejaVuSans-73\" x=\"169.869141\"/>\n      <use xlink:href=\"#DejaVuSans-73\" x=\"221.96875\"/>\n      <use xlink:href=\"#DejaVuSans-20\" x=\"274.068359\"/>\n      <use xlink:href=\"#DejaVuSans-54\" x=\"305.855469\"/>\n      <use xlink:href=\"#DejaVuSans-72\" x=\"352.189453\"/>\n      <use xlink:href=\"#DejaVuSans-61\" x=\"393.302734\"/>\n      <use xlink:href=\"#DejaVuSans-63\" x=\"454.582031\"/>\n      <use xlink:href=\"#DejaVuSans-6b\" x=\"509.5625\"/>\n      <use xlink:href=\"#DejaVuSans-20\" x=\"567.472656\"/>\n      <use xlink:href=\"#DejaVuSans-45\" x=\"599.259766\"/>\n      <use xlink:href=\"#DejaVuSans-72\" x=\"662.443359\"/>\n      <use xlink:href=\"#DejaVuSans-72\" x=\"701.806641\"/>\n      <use xlink:href=\"#DejaVuSans-6f\" x=\"740.669922\"/>\n      <use xlink:href=\"#DejaVuSans-72\" x=\"801.851562\"/>\n      <use xlink:href=\"#DejaVuSans-20\" x=\"842.964844\"/>\n      <use xlink:href=\"#DejaVuSans-28\" x=\"874.751953\"/>\n      <use xlink:href=\"#DejaVuSans-6d\" x=\"913.765625\"/>\n      <use xlink:href=\"#DejaVuSans-65\" x=\"1011.177734\"/>\n      <use xlink:href=\"#DejaVuSans-74\" x=\"1072.701172\"/>\n      <use xlink:href=\"#DejaVuSans-65\" x=\"1111.910156\"/>\n      <use xlink:href=\"#DejaVuSans-72\" x=\"1173.433594\"/>\n      <use xlink:href=\"#DejaVuSans-73\" x=\"1214.546875\"/>\n      <use xlink:href=\"#DejaVuSans-29\" x=\"1266.646484\"/>\n     </g>\n    </g>\n   </g>\n   <g id=\"line2d_13\">\n    <path d=\"M 43.78125 279.433467 \nL 45.058329 279.433467 \nL 46.335409 275.51907 \nL 47.612488 275.51907 \nL 48.889567 275.311744 \nL 50.166647 275.311744 \nL 51.443726 275.62371 \nL 55.274964 275.693868 \nL 57.829123 275.748208 \nL 59.106202 275.997749 \nL 60.383282 275.997749 \nL 61.660361 275.596864 \nL 62.93744 275.596864 \nL 64.21452 275.976048 \nL 65.491599 275.976048 \nL 66.768679 276.511553 \nL 68.045758 276.511553 \nL 69.322837 277.177993 \nL 70.599917 277.177993 \nL 71.876996 276.235227 \nL 73.154075 276.235227 \nL 74.431155 276.363225 \nL 83.37071 276.299245 \nL 84.64779 275.922596 \nL 85.924869 275.922596 \nL 87.201948 276.366763 \nL 88.479028 276.366763 \nL 89.756107 276.025036 \nL 91.033187 276.025036 \nL 92.310266 276.215507 \nL 93.587345 276.215507 \nL 94.864425 275.488281 \nL 96.141504 275.488281 \nL 97.418583 274.081266 \nL 98.695663 274.081266 \nL 99.972742 273.929252 \nL 101.249821 273.929252 \nL 102.526901 271.735096 \nL 103.80398 271.735096 \nL 105.08106 267.365242 \nL 106.358139 267.365242 \nL 107.635218 267.690154 \nL 108.912298 267.690154 \nL 110.189377 266.261503 \nL 111.466456 266.261503 \nL 112.743536 262.692333 \nL 114.020615 262.692333 \nL 115.297694 260.197319 \nL 116.574774 260.197319 \nL 117.851853 266.355129 \nL 119.128933 266.355129 \nL 120.406012 263.544377 \nL 121.683091 263.544377 \nL 122.960171 258.641759 \nL 124.23725 258.641759 \nL 125.514329 258.496651 \nL 126.791409 258.496651 \nL 128.068488 258.37783 \nL 129.345567 258.37783 \nL 130.622647 252.531909 \nL 131.899726 252.531909 \nL 133.176806 258.171221 \nL 134.453885 258.171221 \nL 135.730964 257.818624 \nL 137.008044 257.818624 \nL 138.285123 259.937867 \nL 139.562202 259.937867 \nL 140.839282 260.530499 \nL 142.116361 260.530499 \nL 143.39344 256.40177 \nL 144.67052 256.40177 \nL 145.947599 256.987227 \nL 147.224679 256.987227 \nL 148.501758 253.27838 \nL 149.778837 253.27838 \nL 151.055917 245.107208 \nL 152.332996 245.107208 \nL 153.610075 247.301751 \nL 154.887155 247.301751 \nL 156.164234 248.1031 \nL 157.441313 248.1031 \nL 158.718393 245.024351 \nL 159.995472 245.024351 \nL 161.272552 244.323386 \nL 162.549631 244.323386 \nL 163.82671 240.276358 \nL 165.10379 240.276358 \nL 166.380869 238.442097 \nL 167.657948 238.442097 \nL 168.935028 243.484015 \nL 170.212107 243.484015 \nL 171.489187 240.870276 \nL 172.766266 240.870276 \nL 174.043345 243.131869 \nL 175.320425 243.131869 \nL 176.597504 232.587781 \nL 177.874583 232.587781 \nL 179.151663 225.323899 \nL 180.428742 225.323899 \nL 181.705821 257.065665 \nL 182.982901 257.065665 \nL 184.25998 254.311311 \nL 185.53706 254.311311 \nL 186.814139 252.302204 \nL 188.091218 252.302204 \nL 189.368298 249.793387 \nL 190.645377 249.793387 \nL 191.922456 232.982932 \nL 193.199536 232.982932 \nL 194.476615 226.659468 \nL 195.753694 226.659468 \nL 197.030774 212.332194 \nL 198.307853 212.332194 \nL 199.584933 199.135794 \nL 200.862012 199.135794 \nL 202.139091 224.43079 \nL 203.416171 224.43079 \nL 204.69325 251.72347 \nL 205.970329 251.72347 \nL 207.247409 215.669444 \nL 208.524488 215.669444 \nL 209.801567 214.455675 \nL 211.078647 214.455675 \nL 212.355726 212.558428 \nL 213.632806 212.558428 \nL 214.909885 211.965183 \nL 216.186964 211.965183 \nL 217.464044 214.689553 \nL 218.741123 214.689553 \nL 220.018202 214.874702 \nL 221.295282 214.874702 \nL 222.572361 207.977591 \nL 223.84944 207.977591 \nL 225.12652 209.217784 \nL 226.403599 209.217784 \nL 227.680679 207.127754 \nL 228.957758 207.127754 \nL 230.234837 208.640184 \nL 231.511917 208.640184 \nL 232.788996 206.988452 \nL 234.066075 206.988452 \nL 235.343155 205.504787 \nL 236.620234 205.504787 \nL 237.897313 204.599584 \nL 239.174393 204.599584 \nL 240.451472 202.304547 \nL 241.728552 202.304547 \nL 243.005631 209.026836 \nL 244.28271 209.026836 \nL 245.55979 207.572077 \nL 246.836869 207.572077 \nL 248.113948 206.3188 \nL 249.391028 206.3188 \nL 250.668107 204.673874 \nL 251.945187 204.673874 \nL 253.222266 210.093839 \nL 254.499345 210.093839 \nL 255.776425 201.587598 \nL 257.053504 201.587598 \nL 258.330583 201.945978 \nL 259.607663 201.945978 \nL 260.884742 199.695653 \nL 262.161821 199.695653 \nL 263.438901 199.128794 \nL 264.71598 199.128794 \nL 265.99306 205.192968 \nL 267.270139 205.192968 \nL 268.547218 196.071079 \nL 269.824298 196.071079 \nL 271.101377 193.404231 \nL 272.378456 193.404231 \nL 273.655536 201.056038 \nL 274.932615 201.056038 \nL 276.209694 200.193049 \nL 277.486774 200.193049 \nL 278.763853 197.034361 \nL 280.040933 197.034361 \nL 281.318012 189.769899 \nL 282.595091 189.769899 \nL 283.872171 192.980627 \nL 285.14925 192.980627 \nL 286.426329 191.103475 \nL 287.703409 191.103475 \nL 288.980488 196.877666 \nL 290.257567 196.877666 \nL 291.534647 194.026421 \nL 292.811726 194.026421 \nL 294.088806 188.880082 \nL 295.365885 188.880082 \nL 296.642964 193.766771 \nL 297.920044 193.766771 \nL 299.197123 189.021154 \nL 300.474202 189.021154 \nL 301.751282 194.118617 \nL 303.028361 194.118617 \nL 304.30544 187.479049 \nL 305.58252 187.479049 \nL 306.859599 180.742248 \nL 308.136679 180.742248 \nL 309.413758 191.558636 \nL 310.690837 191.558636 \nL 311.967917 189.003706 \nL 313.244996 189.003706 \nL 314.522075 198.366118 \nL 315.799155 198.366118 \nL 317.076234 180.000575 \nL 318.353313 180.000575 \nL 319.630393 175.150554 \nL 320.907472 175.150554 \nL 322.184552 192.493159 \nL 323.461631 192.493159 \nL 324.73871 188.622383 \nL 328.569948 188.616113 \nL 329.847028 186.639425 \nL 331.124107 186.639425 \nL 332.401187 172.411447 \nL 333.678266 172.411447 \nL 334.955345 190.775541 \nL 336.232425 190.775541 \nL 337.509504 190.45836 \nL 338.786583 190.45836 \nL 340.063663 198.731255 \nL 341.340742 198.731255 \nL 342.617821 184.402404 \nL 343.894901 184.402404 \nL 345.17198 190.77678 \nL 346.44906 190.77678 \nL 347.726139 189.039491 \nL 349.003218 189.039491 \nL 350.280298 191.095926 \nL 351.557377 191.095926 \nL 352.834456 196.586762 \nL 354.111536 196.586762 \nL 355.388615 184.362184 \nL 356.665694 184.362184 \nL 357.942774 189.722674 \nL 359.219853 189.722674 \nL 360.496933 187.218289 \nL 361.774012 187.218289 \nL 363.051091 193.680016 \nL 364.328171 193.680016 \nL 365.60525 183.115027 \nL 366.882329 183.115027 \nL 368.159409 198.575574 \nL 369.436488 198.575574 \nL 370.713567 189.676045 \nL 371.990647 189.676045 \nL 373.267726 185.419693 \nL 374.544806 185.419693 \nL 375.821885 178.955965 \nL 377.098964 178.955965 \nL 378.376044 156.937663 \nL 379.653123 156.937663 \nL 380.930202 208.867188 \nL 382.207282 208.867188 \nL 383.484361 185.425968 \nL 384.76144 185.425968 \nL 386.03852 156.783351 \nL 387.315599 156.783351 \nL 388.592679 146.918038 \nL 389.869758 146.918038 \nL 391.146837 185.434669 \nL 392.423917 185.434669 \nL 393.700996 178.019098 \nL 394.978075 178.019098 \nL 396.255155 176.105986 \nL 397.532234 176.105986 \nL 398.809313 172.492679 \nL 400.086393 172.492679 \nL 401.363472 167.229499 \nL 402.640552 167.229499 \nL 403.917631 183.090588 \nL 405.19471 183.090588 \nL 406.47179 178.444468 \nL 407.748869 178.444468 \nL 409.025948 180.480592 \nL 410.303028 180.480592 \nL 411.580107 174.992335 \nL 412.857187 174.992335 \nL 414.134266 194.996701 \nL 415.411345 194.996701 \nL 416.688425 185.43048 \nL 417.965504 185.43048 \nL 419.242583 186.158702 \nL 420.519663 186.158702 \nL 421.796742 179.499587 \nL 423.073821 179.499587 \nL 424.350901 176.097652 \nL 425.62798 176.097652 \nL 426.90506 193.220511 \nL 428.182139 193.220511 \nL 429.459218 185.202605 \nL 430.736298 185.202605 \nL 432.013377 181.753432 \nL 433.290456 181.753432 \nL 434.567536 175.036149 \nL 435.844615 175.036149 \nL 437.121694 188.069872 \nL 438.398774 188.069872 \nL 439.675853 180.696241 \nL 440.952933 180.696241 \nL 442.230012 176.806085 \nL 443.507091 176.806085 \nL 444.784171 173.183972 \nL 446.06125 173.183972 \nL 447.338329 158.70974 \nL 448.615409 158.70974 \nL 449.892488 181.175566 \nL 451.169567 181.175566 \nL 452.446647 173.561298 \nL 453.723726 173.561298 \nL 454.26125 175.744735 \nL 454.26125 175.744735 \n\" clip-path=\"url(#p687a2b2216)\" style=\"fill: none; stroke: #1f77b4; stroke-width: 1.5; stroke-linecap: square\"/>\n   </g>\n   <g id=\"line2d_14\">\n    <path d=\"M 43.78125 284.520342 \nL 45.058329 284.520342 \nL 46.335409 285.400815 \nL 47.612488 285.400815 \nL 48.889567 284.922017 \nL 50.166647 284.922017 \nL 51.443726 285.369471 \nL 55.274964 285.327786 \nL 56.552044 284.333391 \nL 57.829123 284.333391 \nL 59.106202 284.853872 \nL 60.383282 284.853872 \nL 61.660361 285.305254 \nL 62.93744 285.305254 \nL 64.21452 284.567643 \nL 65.491599 284.567643 \nL 66.768679 283.803077 \nL 68.045758 283.803077 \nL 69.322837 284.623139 \nL 73.154075 284.613958 \nL 74.431155 283.396982 \nL 75.708234 283.396982 \nL 76.985313 284.283525 \nL 78.262393 284.283525 \nL 79.539472 283.420987 \nL 80.816552 283.420987 \nL 82.093631 283.797244 \nL 83.37071 283.797244 \nL 84.64779 283.543731 \nL 85.924869 283.543731 \nL 87.201948 284.263636 \nL 91.033187 284.220649 \nL 92.310266 284.099136 \nL 93.587345 284.099136 \nL 94.864425 283.980051 \nL 98.695663 283.930972 \nL 99.972742 283.432181 \nL 101.249821 283.432181 \nL 102.526901 283.172977 \nL 103.80398 283.172977 \nL 105.08106 284.520757 \nL 106.358139 284.520757 \nL 107.635218 285.654283 \nL 108.912298 285.654283 \nL 110.189377 286.21967 \nL 111.466456 286.21967 \nL 112.743536 284.410144 \nL 114.020615 284.410144 \nL 115.297694 285.786324 \nL 116.574774 285.786324 \nL 117.851853 286.531644 \nL 119.128933 286.531644 \nL 120.406012 283.660585 \nL 121.683091 283.660585 \nL 122.960171 286.64339 \nL 124.23725 286.64339 \nL 125.514329 283.582341 \nL 126.791409 283.582341 \nL 128.068488 285.962837 \nL 129.345567 285.962837 \nL 130.622647 285.643202 \nL 131.899726 285.643202 \nL 133.176806 285.330262 \nL 134.453885 285.330262 \nL 135.730964 286.688458 \nL 137.008044 286.688458 \nL 138.285123 285.473538 \nL 139.562202 285.473538 \nL 140.839282 283.860211 \nL 142.116361 283.860211 \nL 143.39344 285.64019 \nL 144.67052 285.64019 \nL 145.947599 284.699793 \nL 147.224679 284.699793 \nL 148.501758 286.090405 \nL 149.778837 286.090405 \nL 151.055917 284.942312 \nL 152.332996 284.942312 \nL 153.610075 282.02164 \nL 154.887155 282.02164 \nL 156.164234 283.617928 \nL 157.441313 283.617928 \nL 158.718393 283.168585 \nL 159.995472 283.168585 \nL 161.272552 282.067875 \nL 162.549631 282.067875 \nL 163.82671 279.985604 \nL 165.10379 279.985604 \nL 166.380869 277.841145 \nL 167.657948 277.841145 \nL 168.935028 279.810258 \nL 170.212107 279.810258 \nL 171.489187 283.421338 \nL 172.766266 283.421338 \nL 174.043345 284.331143 \nL 175.320425 284.331143 \nL 176.597504 282.442271 \nL 177.874583 282.442271 \nL 179.151663 281.094491 \nL 180.428742 281.094491 \nL 181.705821 283.022214 \nL 182.982901 283.022214 \nL 184.25998 284.764742 \nL 185.53706 284.764742 \nL 186.814139 275.170702 \nL 188.091218 275.170702 \nL 189.368298 273.722431 \nL 190.645377 273.722431 \nL 191.922456 275.382893 \nL 193.199536 275.382893 \nL 194.476615 275.742842 \nL 195.753694 275.742842 \nL 197.030774 282.737674 \nL 198.307853 282.737674 \nL 199.584933 285.381057 \nL 200.862012 285.381057 \nL 202.139091 282.235204 \nL 203.416171 282.235204 \nL 204.69325 255.185226 \nL 205.970329 255.185226 \nL 207.247409 232.564248 \nL 208.524488 232.564248 \nL 209.801567 274.469033 \nL 211.078647 274.469033 \nL 212.355726 285.605908 \nL 213.632806 285.605908 \nL 214.909885 286.321266 \nL 216.186964 286.321266 \nL 217.464044 282.181327 \nL 221.295282 282.085446 \nL 222.572361 280.538815 \nL 223.84944 280.538815 \nL 225.12652 281.54163 \nL 226.403599 281.54163 \nL 227.680679 284.061286 \nL 228.957758 284.061286 \nL 230.234837 286.584997 \nL 234.066075 286.673888 \nL 235.343155 283.425896 \nL 236.620234 283.425896 \nL 237.897313 283.013514 \nL 239.174393 283.013514 \nL 240.451472 281.696139 \nL 241.728552 281.696139 \nL 243.005631 275.676863 \nL 244.28271 275.676863 \nL 245.55979 273.243713 \nL 246.836869 273.243713 \nL 248.113948 272.892633 \nL 249.391028 272.892633 \nL 250.668107 269.525227 \nL 251.945187 269.525227 \nL 253.222266 270.378174 \nL 254.499345 270.378174 \nL 255.776425 270.825249 \nL 257.053504 270.825249 \nL 258.330583 271.483229 \nL 259.607663 271.483229 \nL 260.884742 274.070745 \nL 262.161821 274.070745 \nL 263.438901 273.36935 \nL 264.71598 273.36935 \nL 265.99306 275.937021 \nL 267.270139 275.937021 \nL 268.547218 277.003857 \nL 269.824298 277.003857 \nL 271.101377 281.556479 \nL 272.378456 281.556479 \nL 273.655536 279.566211 \nL 274.932615 279.566211 \nL 276.209694 278.833501 \nL 277.486774 278.833501 \nL 278.763853 279.295287 \nL 280.040933 279.295287 \nL 281.318012 274.8772 \nL 282.595091 274.8772 \nL 283.872171 277.676705 \nL 285.14925 277.676705 \nL 286.426329 286.706941 \nL 287.703409 286.706941 \nL 288.980488 283.652654 \nL 290.257567 283.652654 \nL 291.534647 279.77553 \nL 292.811726 279.77553 \nL 294.088806 280.472184 \nL 295.365885 280.472184 \nL 296.642964 274.873561 \nL 297.920044 274.873561 \nL 299.197123 281.804126 \nL 300.474202 281.804126 \nL 301.751282 278.49551 \nL 303.028361 278.49551 \nL 304.30544 272.142855 \nL 305.58252 272.142855 \nL 306.859599 268.975696 \nL 308.136679 268.975696 \nL 309.413758 275.855346 \nL 310.690837 275.855346 \nL 311.967917 282.682681 \nL 313.244996 282.682681 \nL 314.522075 277.190431 \nL 315.799155 277.190431 \nL 317.076234 270.396689 \nL 318.353313 270.396689 \nL 319.630393 272.965656 \nL 320.907472 272.965656 \nL 322.184552 280.184618 \nL 323.461631 280.184618 \nL 324.73871 274.226816 \nL 326.01579 274.226816 \nL 327.292869 275.943601 \nL 328.569948 275.943601 \nL 329.847028 274.928066 \nL 331.124107 274.928066 \nL 332.401187 277.402128 \nL 333.678266 277.402128 \nL 334.955345 276.561111 \nL 338.786583 276.546966 \nL 340.063663 275.626427 \nL 341.340742 275.626427 \nL 342.617821 275.942038 \nL 343.894901 275.942038 \nL 345.17198 276.504302 \nL 346.44906 276.504302 \nL 347.726139 273.945904 \nL 349.003218 273.945904 \nL 350.280298 274.925663 \nL 351.557377 274.925663 \nL 352.834456 275.494458 \nL 354.111536 275.494458 \nL 355.388615 274.30798 \nL 356.665694 274.30798 \nL 357.942774 277.626694 \nL 359.219853 277.626694 \nL 360.496933 273.224597 \nL 361.774012 273.224597 \nL 363.051091 271.659003 \nL 364.328171 271.659003 \nL 365.60525 272.621945 \nL 366.882329 272.621945 \nL 368.159409 278.063343 \nL 369.436488 278.063343 \nL 370.713567 274.937881 \nL 371.990647 274.937881 \nL 373.267726 277.089346 \nL 374.544806 277.089346 \nL 375.821885 280.224731 \nL 377.098964 280.224731 \nL 378.376044 275.369341 \nL 379.653123 275.369341 \nL 380.930202 271.596227 \nL 382.207282 271.596227 \nL 383.484361 275.259447 \nL 384.76144 275.259447 \nL 386.03852 277.650782 \nL 387.315599 277.650782 \nL 388.592679 276.810785 \nL 389.869758 276.810785 \nL 391.146837 276.694374 \nL 392.423917 276.694374 \nL 393.700996 277.221493 \nL 394.978075 277.221493 \nL 396.255155 276.549325 \nL 397.532234 276.549325 \nL 398.809313 273.947647 \nL 400.086393 273.947647 \nL 401.363472 275.313208 \nL 402.640552 275.313208 \nL 403.917631 277.882964 \nL 405.19471 277.882964 \nL 406.47179 275.614497 \nL 407.748869 275.614497 \nL 409.025948 274.85306 \nL 410.303028 274.85306 \nL 411.580107 275.353907 \nL 412.857187 275.353907 \nL 414.134266 279.589193 \nL 415.411345 279.589193 \nL 416.688425 278.920303 \nL 417.965504 278.920303 \nL 419.242583 276.184833 \nL 420.519663 276.184833 \nL 421.796742 270.230048 \nL 423.073821 270.230048 \nL 424.350901 267.643617 \nL 425.62798 267.643617 \nL 426.90506 272.845187 \nL 428.182139 272.845187 \nL 429.459218 274.966146 \nL 430.736298 274.966146 \nL 432.013377 273.157718 \nL 433.290456 273.157718 \nL 434.567536 271.026402 \nL 435.844615 271.026402 \nL 437.121694 271.596726 \nL 438.398774 271.596726 \nL 439.675853 276.029962 \nL 440.952933 276.029962 \nL 442.230012 273.916522 \nL 443.507091 273.916522 \nL 444.784171 271.787996 \nL 448.615409 271.711713 \nL 449.892488 275.88212 \nL 451.169567 275.88212 \nL 452.446647 280.044808 \nL 453.723726 280.044808 \nL 454.26125 278.97922 \nL 454.26125 278.97922 \n\" clip-path=\"url(#p687a2b2216)\" style=\"fill: none; stroke: #ff7f0e; stroke-width: 1.5; stroke-linecap: square\"/>\n   </g>\n   <g id=\"line2d_15\">\n    <path d=\"M 43.78125 279.89569 \nL 45.058329 279.89569 \nL 46.335409 275.543906 \nL 47.612488 275.543906 \nL 48.889567 274.989289 \nL 52.720806 274.963951 \nL 53.997885 275.565648 \nL 55.274964 275.565648 \nL 56.552044 275.427195 \nL 57.829123 275.427195 \nL 59.106202 275.567085 \nL 62.93744 275.583018 \nL 64.21452 275.369132 \nL 65.491599 275.369132 \nL 66.768679 276.100266 \nL 68.045758 276.100266 \nL 69.322837 277.073722 \nL 70.599917 277.073722 \nL 71.876996 275.951702 \nL 75.708234 275.981264 \nL 76.985313 276.276143 \nL 78.262393 276.276143 \nL 79.539472 276.16102 \nL 80.816552 276.16102 \nL 82.093631 275.908095 \nL 83.37071 275.908095 \nL 84.64779 275.670478 \nL 85.924869 275.670478 \nL 87.201948 276.173073 \nL 88.479028 276.173073 \nL 89.756107 275.827182 \nL 91.033187 275.827182 \nL 92.310266 275.967989 \nL 93.587345 275.967989 \nL 94.864425 275.318677 \nL 96.141504 275.318677 \nL 97.418583 275.567765 \nL 98.695663 275.567765 \nL 99.972742 275.34051 \nL 101.249821 275.34051 \nL 102.526901 270.593459 \nL 103.80398 270.593459 \nL 105.08106 274.716673 \nL 106.358139 274.716673 \nL 107.635218 269.808943 \nL 108.912298 269.808943 \nL 110.189377 270.038628 \nL 111.466456 270.038628 \nL 112.743536 266.331119 \nL 114.020615 266.331119 \nL 115.297694 260.662082 \nL 116.574774 260.662082 \nL 117.851853 263.861804 \nL 119.128933 263.861804 \nL 120.406012 261.555622 \nL 121.683091 261.555622 \nL 122.960171 264.406264 \nL 124.23725 264.406264 \nL 125.514329 254.915757 \nL 126.791409 254.915757 \nL 128.068488 262.192861 \nL 129.345567 262.192861 \nL 130.622647 254.729687 \nL 131.899726 254.729687 \nL 133.176806 255.964001 \nL 134.453885 255.964001 \nL 135.730964 257.536199 \nL 137.008044 257.536199 \nL 138.285123 256.815085 \nL 139.562202 256.815085 \nL 140.839282 260.302256 \nL 142.116361 260.302256 \nL 143.39344 260.133131 \nL 144.67052 260.133131 \nL 145.947599 257.990872 \nL 147.224679 257.990872 \nL 148.501758 256.237763 \nL 149.778837 256.237763 \nL 151.055917 252.742389 \nL 152.332996 252.742389 \nL 153.610075 247.151144 \nL 154.887155 247.151144 \nL 156.164234 246.818096 \nL 157.441313 246.818096 \nL 158.718393 245.3656 \nL 159.995472 245.3656 \nL 161.272552 248.13457 \nL 162.549631 248.13457 \nL 163.82671 240.443222 \nL 165.10379 240.443222 \nL 166.380869 239.1716 \nL 170.212107 239.11004 \nL 171.489187 243.149097 \nL 172.766266 243.149097 \nL 174.043345 244.47874 \nL 175.320425 244.47874 \nL 176.597504 246.77285 \nL 177.874583 246.77285 \nL 179.151663 251.02287 \nL 180.428742 251.02287 \nL 181.705821 279.968175 \nL 182.982901 279.968175 \nL 184.25998 272.6988 \nL 185.53706 272.6988 \nL 186.814139 278.558345 \nL 188.091218 278.558345 \nL 189.368298 281.647213 \nL 190.645377 281.647213 \nL 191.922456 285.266324 \nL 193.199536 285.266324 \nL 194.476615 284.324485 \nL 195.753694 284.324485 \nL 197.030774 281.623866 \nL 198.307853 281.623866 \nL 199.584933 276.406006 \nL 200.862012 276.406006 \nL 202.139091 269.206636 \nL 203.416171 269.206636 \nL 204.69325 253.421233 \nL 205.970329 253.421233 \nL 207.247409 276.563391 \nL 208.524488 276.563391 \nL 209.801567 280.382384 \nL 213.632806 280.353867 \nL 214.909885 281.042896 \nL 216.186964 281.042896 \nL 217.464044 286.141741 \nL 218.741123 286.141741 \nL 220.018202 283.807308 \nL 221.295282 283.807308 \nL 222.572361 276.532625 \nL 223.84944 276.532625 \nL 225.12652 276.652557 \nL 226.403599 276.652557 \nL 227.680679 278.909448 \nL 228.957758 278.909448 \nL 230.234837 275.295262 \nL 234.066075 275.373486 \nL 235.343155 278.198567 \nL 236.620234 278.198567 \nL 237.897313 278.703065 \nL 239.174393 278.703065 \nL 240.451472 282.021459 \nL 241.728552 282.021459 \nL 243.005631 283.876894 \nL 244.28271 283.876894 \nL 245.55979 278.971798 \nL 246.836869 278.971798 \nL 248.113948 285.69431 \nL 249.391028 285.69431 \nL 250.668107 282.006847 \nL 251.945187 282.006847 \nL 253.222266 277.677337 \nL 257.053504 277.787846 \nL 258.330583 282.380456 \nL 259.607663 282.380456 \nL 260.884742 281.122013 \nL 262.161821 281.122013 \nL 263.438901 282.68411 \nL 264.71598 282.68411 \nL 265.99306 281.463111 \nL 267.270139 281.463111 \nL 268.547218 286.729091 \nL 269.824298 286.729091 \nL 271.101377 282.476486 \nL 272.378456 282.476486 \nL 273.655536 286.612883 \nL 274.932615 286.612883 \nL 276.209694 283.512025 \nL 277.486774 283.512025 \nL 278.763853 286.068147 \nL 280.040933 286.068147 \nL 281.318012 285.158123 \nL 282.595091 285.158123 \nL 283.872171 286.237577 \nL 285.14925 286.237577 \nL 286.426329 282.294022 \nL 287.703409 282.294022 \nL 288.980488 280.894811 \nL 290.257567 280.894811 \nL 291.534647 278.539628 \nL 292.811726 278.539628 \nL 294.088806 281.092051 \nL 295.365885 281.092051 \nL 296.642964 285.900697 \nL 297.920044 285.900697 \nL 299.197123 283.670336 \nL 300.474202 283.670336 \nL 301.751282 282.090131 \nL 303.028361 282.090131 \nL 304.30544 280.402611 \nL 305.58252 280.402611 \nL 306.859599 286.714038 \nL 308.136679 286.714038 \nL 309.413758 282.169736 \nL 310.690837 282.169736 \nL 311.967917 286.439413 \nL 313.244996 286.439413 \nL 314.522075 278.373335 \nL 315.799155 278.373335 \nL 317.076234 272.915374 \nL 318.353313 272.915374 \nL 319.630393 272.622415 \nL 320.907472 272.622415 \nL 322.184552 268.773722 \nL 323.461631 268.773722 \nL 324.73871 271.629788 \nL 326.01579 271.629788 \nL 327.292869 279.817608 \nL 328.569948 279.817608 \nL 329.847028 272.236392 \nL 331.124107 272.236392 \nL 332.401187 265.273983 \nL 333.678266 265.273983 \nL 334.955345 263.979229 \nL 336.232425 263.979229 \nL 337.509504 261.876459 \nL 338.786583 261.876459 \nL 340.063663 259.65332 \nL 341.340742 259.65332 \nL 342.617821 260.665924 \nL 343.894901 260.665924 \nL 345.17198 265.628568 \nL 346.44906 265.628568 \nL 347.726139 263.448458 \nL 349.003218 263.448458 \nL 350.280298 261.558318 \nL 351.557377 261.558318 \nL 352.834456 262.109864 \nL 354.111536 262.109864 \nL 355.388615 261.665385 \nL 356.665694 261.665385 \nL 357.942774 264.891472 \nL 359.219853 264.891472 \nL 360.496933 269.571849 \nL 361.774012 269.571849 \nL 363.051091 267.61339 \nL 364.328171 267.61339 \nL 365.60525 268.981831 \nL 369.436488 268.936957 \nL 370.713567 269.673634 \nL 371.990647 269.673634 \nL 373.267726 272.032258 \nL 374.544806 272.032258 \nL 375.821885 273.982424 \nL 377.098964 273.982424 \nL 378.376044 272.050681 \nL 379.653123 272.050681 \nL 380.930202 270.091984 \nL 382.207282 270.091984 \nL 383.484361 272.316403 \nL 384.76144 272.316403 \nL 386.03852 275.376962 \nL 387.315599 275.376962 \nL 388.592679 269.864736 \nL 389.869758 269.864736 \nL 391.146837 267.508396 \nL 392.423917 267.508396 \nL 393.700996 268.541207 \nL 394.978075 268.541207 \nL 396.255155 268.416986 \nL 397.532234 268.416986 \nL 398.809313 266.409301 \nL 400.086393 266.409301 \nL 401.363472 263.198125 \nL 402.640552 263.198125 \nL 403.917631 263.825204 \nL 407.748869 263.714513 \nL 409.025948 258.173354 \nL 410.303028 258.173354 \nL 411.580107 260.22709 \nL 412.857187 260.22709 \nL 414.134266 261.192929 \nL 415.411345 261.192929 \nL 416.688425 263.982585 \nL 417.965504 263.982585 \nL 419.242583 263.107738 \nL 420.519663 263.107738 \nL 421.796742 257.922385 \nL 423.073821 257.922385 \nL 424.350901 260.702466 \nL 425.62798 260.702466 \nL 426.90506 262.468998 \nL 428.182139 262.468998 \nL 429.459218 263.786914 \nL 430.736298 263.786914 \nL 432.013377 264.268116 \nL 433.290456 264.268116 \nL 434.567536 258.447186 \nL 435.844615 258.447186 \nL 437.121694 265.218914 \nL 438.398774 265.218914 \nL 439.675853 265.38827 \nL 440.952933 265.38827 \nL 442.230012 269.463197 \nL 443.507091 269.463197 \nL 444.784171 265.803742 \nL 446.06125 265.803742 \nL 447.338329 269.543954 \nL 448.615409 269.543954 \nL 449.892488 274.769532 \nL 451.169567 274.769532 \nL 452.446647 278.373517 \nL 453.723726 278.373517 \nL 454.26125 277.756543 \nL 454.26125 277.756543 \n\" clip-path=\"url(#p687a2b2216)\" style=\"fill: none; stroke: #2ca02c; stroke-width: 1.5; stroke-linecap: square\"/>\n   </g>\n   <g id=\"patch_3\">\n    <path d=\"M 43.78125 300.04 \nL 43.78125 7.2 \n\" style=\"fill: none; stroke: #000000; stroke-width: 0.8; stroke-linejoin: miter; stroke-linecap: square\"/>\n   </g>\n   <g id=\"patch_4\">\n    <path d=\"M 446.06125 300.04 \nL 446.06125 7.2 \n\" style=\"fill: none; stroke: #000000; stroke-width: 0.8; stroke-linejoin: miter; stroke-linecap: square\"/>\n   </g>\n   <g id=\"patch_5\">\n    <path d=\"M 43.78125 300.04 \nL 446.06125 300.04 \n\" style=\"fill: none; stroke: #000000; stroke-width: 0.8; stroke-linejoin: miter; stroke-linecap: square\"/>\n   </g>\n   <g id=\"patch_6\">\n    <path d=\"M 43.78125 7.2 \nL 446.06125 7.2 \n\" style=\"fill: none; stroke: #000000; stroke-width: 0.8; stroke-linejoin: miter; stroke-linecap: square\"/>\n   </g>\n   <g id=\"legend_1\">\n    <g id=\"patch_7\">\n     <path d=\"M 341.469062 59.234375 \nL 439.06125 59.234375 \nQ 441.06125 59.234375 441.06125 57.234375 \nL 441.06125 14.2 \nQ 441.06125 12.2 439.06125 12.2 \nL 341.469062 12.2 \nQ 339.469062 12.2 339.469062 14.2 \nL 339.469062 57.234375 \nQ 339.469062 59.234375 341.469062 59.234375 \nz\n\" style=\"fill: #ffffff; opacity: 0.8; stroke: #cccccc; stroke-linejoin: miter\"/>\n    </g>\n    <g id=\"line2d_16\">\n     <path d=\"M 343.469062 20.298437 \nL 353.469062 20.298437 \nL 363.469062 20.298437 \n\" style=\"fill: none; stroke: #1f77b4; stroke-width: 1.5; stroke-linecap: square\"/>\n    </g>\n    <g id=\"text_15\">\n     <!-- no calib. -->\n     <g transform=\"translate(371.469062 23.798437) scale(0.1 -0.1)\">\n      <defs>\n       <path id=\"DejaVuSans-6c\" d=\"M 603 4863 \nL 1178 4863 \nL 1178 0 \nL 603 0 \nL 603 4863 \nz\n\" transform=\"scale(0.015625)\"/>\n       <path id=\"DejaVuSans-62\" d=\"M 3116 1747 \nQ 3116 2381 2855 2742 \nQ 2594 3103 2138 3103 \nQ 1681 3103 1420 2742 \nQ 1159 2381 1159 1747 \nQ 1159 1113 1420 752 \nQ 1681 391 2138 391 \nQ 2594 391 2855 752 \nQ 3116 1113 3116 1747 \nz\nM 1159 2969 \nQ 1341 3281 1617 3432 \nQ 1894 3584 2278 3584 \nQ 2916 3584 3314 3078 \nQ 3713 2572 3713 1747 \nQ 3713 922 3314 415 \nQ 2916 -91 2278 -91 \nQ 1894 -91 1617 61 \nQ 1341 213 1159 525 \nL 1159 0 \nL 581 0 \nL 581 4863 \nL 1159 4863 \nL 1159 2969 \nz\n\" transform=\"scale(0.015625)\"/>\n      </defs>\n      <use xlink:href=\"#DejaVuSans-6e\"/>\n      <use xlink:href=\"#DejaVuSans-6f\" x=\"63.378906\"/>\n      <use xlink:href=\"#DejaVuSans-20\" x=\"124.560547\"/>\n      <use xlink:href=\"#DejaVuSans-63\" x=\"156.347656\"/>\n      <use xlink:href=\"#DejaVuSans-61\" x=\"211.328125\"/>\n      <use xlink:href=\"#DejaVuSans-6c\" x=\"272.607422\"/>\n      <use xlink:href=\"#DejaVuSans-69\" x=\"300.390625\"/>\n      <use xlink:href=\"#DejaVuSans-62\" x=\"328.173828\"/>\n      <use xlink:href=\"#DejaVuSans-2e\" x=\"391.650391\"/>\n     </g>\n    </g>\n    <g id=\"line2d_17\">\n     <path d=\"M 343.469062 34.976562 \nL 353.469062 34.976562 \nL 363.469062 34.976562 \n\" style=\"fill: none; stroke: #ff7f0e; stroke-width: 1.5; stroke-linecap: square\"/>\n    </g>\n    <g id=\"text_16\">\n     <!-- perfect calib. -->\n     <g transform=\"translate(371.469062 38.476562) scale(0.1 -0.1)\">\n      <defs>\n       <path id=\"DejaVuSans-70\" d=\"M 1159 525 \nL 1159 -1331 \nL 581 -1331 \nL 581 3500 \nL 1159 3500 \nL 1159 2969 \nQ 1341 3281 1617 3432 \nQ 1894 3584 2278 3584 \nQ 2916 3584 3314 3078 \nQ 3713 2572 3713 1747 \nQ 3713 922 3314 415 \nQ 2916 -91 2278 -91 \nQ 1894 -91 1617 61 \nQ 1341 213 1159 525 \nz\nM 3116 1747 \nQ 3116 2381 2855 2742 \nQ 2594 3103 2138 3103 \nQ 1681 3103 1420 2742 \nQ 1159 2381 1159 1747 \nQ 1159 1113 1420 752 \nQ 1681 391 2138 391 \nQ 2594 391 2855 752 \nQ 3116 1113 3116 1747 \nz\n\" transform=\"scale(0.015625)\"/>\n       <path id=\"DejaVuSans-66\" d=\"M 2375 4863 \nL 2375 4384 \nL 1825 4384 \nQ 1516 4384 1395 4259 \nQ 1275 4134 1275 3809 \nL 1275 3500 \nL 2222 3500 \nL 2222 3053 \nL 1275 3053 \nL 1275 0 \nL 697 0 \nL 697 3053 \nL 147 3053 \nL 147 3500 \nL 697 3500 \nL 697 3744 \nQ 697 4328 969 4595 \nQ 1241 4863 1831 4863 \nL 2375 4863 \nz\n\" transform=\"scale(0.015625)\"/>\n      </defs>\n      <use xlink:href=\"#DejaVuSans-70\"/>\n      <use xlink:href=\"#DejaVuSans-65\" x=\"63.476562\"/>\n      <use xlink:href=\"#DejaVuSans-72\" x=\"125\"/>\n      <use xlink:href=\"#DejaVuSans-66\" x=\"166.113281\"/>\n      <use xlink:href=\"#DejaVuSans-65\" x=\"201.318359\"/>\n      <use xlink:href=\"#DejaVuSans-63\" x=\"262.841797\"/>\n      <use xlink:href=\"#DejaVuSans-74\" x=\"317.822266\"/>\n      <use xlink:href=\"#DejaVuSans-20\" x=\"357.03125\"/>\n      <use xlink:href=\"#DejaVuSans-63\" x=\"388.818359\"/>\n      <use xlink:href=\"#DejaVuSans-61\" x=\"443.798828\"/>\n      <use xlink:href=\"#DejaVuSans-6c\" x=\"505.078125\"/>\n      <use xlink:href=\"#DejaVuSans-69\" x=\"532.861328\"/>\n      <use xlink:href=\"#DejaVuSans-62\" x=\"560.644531\"/>\n      <use xlink:href=\"#DejaVuSans-2e\" x=\"624.121094\"/>\n     </g>\n    </g>\n    <g id=\"line2d_18\">\n     <path d=\"M 343.469062 49.654687 \nL 353.469062 49.654687 \nL 363.469062 49.654687 \n\" style=\"fill: none; stroke: #2ca02c; stroke-width: 1.5; stroke-linecap: square\"/>\n    </g>\n    <g id=\"text_17\">\n     <!-- VP calib. -->\n     <g transform=\"translate(371.469062 53.154687) scale(0.1 -0.1)\">\n      <defs>\n       <path id=\"DejaVuSans-56\" d=\"M 1831 0 \nL 50 4666 \nL 709 4666 \nL 2188 738 \nL 3669 4666 \nL 4325 4666 \nL 2547 0 \nL 1831 0 \nz\n\" transform=\"scale(0.015625)\"/>\n       <path id=\"DejaVuSans-50\" d=\"M 1259 4147 \nL 1259 2394 \nL 2053 2394 \nQ 2494 2394 2734 2622 \nQ 2975 2850 2975 3272 \nQ 2975 3691 2734 3919 \nQ 2494 4147 2053 4147 \nL 1259 4147 \nz\nM 628 4666 \nL 2053 4666 \nQ 2838 4666 3239 4311 \nQ 3641 3956 3641 3272 \nQ 3641 2581 3239 2228 \nQ 2838 1875 2053 1875 \nL 1259 1875 \nL 1259 0 \nL 628 0 \nL 628 4666 \nz\n\" transform=\"scale(0.015625)\"/>\n      </defs>\n      <use xlink:href=\"#DejaVuSans-56\"/>\n      <use xlink:href=\"#DejaVuSans-50\" x=\"68.408203\"/>\n      <use xlink:href=\"#DejaVuSans-20\" x=\"128.710938\"/>\n      <use xlink:href=\"#DejaVuSans-63\" x=\"160.498047\"/>\n      <use xlink:href=\"#DejaVuSans-61\" x=\"215.478516\"/>\n      <use xlink:href=\"#DejaVuSans-6c\" x=\"276.757812\"/>\n      <use xlink:href=\"#DejaVuSans-69\" x=\"304.541016\"/>\n      <use xlink:href=\"#DejaVuSans-62\" x=\"332.324219\"/>\n      <use xlink:href=\"#DejaVuSans-2e\" x=\"395.800781\"/>\n     </g>\n    </g>\n   </g>\n  </g>\n </g>\n <defs>\n  <clipPath id=\"p687a2b2216\">\n   <rect x=\"43.78125\" y=\"7.2\" width=\"402.28\" height=\"292.84\"/>\n  </clipPath>\n </defs>\n</svg>\n",
      "text/plain": [
       "<Figure size 640x480 with 1 Axes>"
      ]
     },
     "metadata": {},
     "output_type": "display_data"
    }
   ],
   "source": [
    "get_time = lambda x: np.array(range(len(x)))/30\n",
    "plt.plot(get_time(cte_no_calib), cte_no_calib, label=\"no calib.\")\n",
    "plt.plot(get_time(cte_perfect_calib), cte_perfect_calib, label=\"perfect calib.\")\n",
    "plt.plot(get_time(cte_with_calib), cte_with_calib, label=\"VP calib.\")\n",
    "plt.legend()\n",
    "plt.xlabel(\"Time (seconds)\")\n",
    "plt.ylabel(\"Cross Track Error (meters)\")\n",
    "plt.xlim(0,10.5)\n",
    "plt.tight_layout()"
   ]
  },
  {
   "cell_type": "markdown",
   "metadata": {},
   "source": [
    "First, the vehicle leaves the middle of the lane, but then it has gathered enough data to estimate yaw and pitch angles. Consequently, it can recover and stay close to the middle of the lane. Let's learn how this \"VP calib.\" method works!"
   ]
  },
  {
   "cell_type": "markdown",
   "metadata": {},
   "source": [
    "## Vanishing Point Method\n",
    "\n",
    "Our aim is to find the rotation matrix $\\mathbf{R_{cr}}$, which describes how the camera is rotated\n",
    "\n",
    "We know that the rail tracks or the lane lines are mostly parallel, however, if we take an image of the track or road from a camera, we would observe that the track lines or the lanes are not parallel in the image. The point where these lines intersect in an image is known as the vanishing point.\n",
    "\n",
    "```{figure} images/vanishing_point.png\n",
    "---\n",
    "width: 50%\n",
    "name: vanishing_point_carla\n",
    "---\n",
    "```\n",
    "\n",
    "```{figure} images/Vanishing_point.svg\n",
    "---\n",
    "width: 50%\n",
    "name: vanishing_point\n",
    "---\n",
    "Image Source [wikipedia](https://en.wikipedia.org/wiki/Vanishing_point)\n",
    "```"
   ]
  },
  {
   "cell_type": "markdown",
   "metadata": {},
   "source": [
    "We know that in the world coordinate system, these parallel lines won't ever intersect. So we say that the vanishing point is at infinity. Assuming that the car's forwards direction is aligned with the lane lines, we can say that the lane lines intersect at $Z=\\infty$, where $(X,Y,Z)$ are coordinates of a point in the road reference frame (reminder: the road reference frame is attached to the vehicle, and $Z$ is the vehicle's forwards axis). \n",
    "```{admonition} Important assumption!\n",
    ":class: warning\n",
    "The assumption we just made is very important: The vehicle is aligned with the lane, and the lane is straight. Then, the intersection of the lane lines in the image (vanishing point), will give us information about the camera mounting, i.e., the orientation of the camera with respect to vehicle. Otherwise it would only tell us something about the orientation of the vehicle with respect to the lane lines.\n",
    "```\n",
    "\n",
    "Now recall the camera projection equation\n",
    "\n",
    "$$\n",
    "    \\lambda \\begin{pmatrix} u \\\\ v\\\\ 1 \\end{pmatrix} = \\mathbf{K} \\begin{pmatrix} \\mathbf{R_{cr}} | \\mathbf{t} \\end{pmatrix}  \\begin{pmatrix} X \\\\ Y \\\\ Z \\\\ 1 \\end{pmatrix}\n",
    "$$\n",
    "\n",
    "Since this is an equation in homogeneous coordinates, we can multiply both sides by $1/Z$ and absorb this number in $\\lambda$ on the left hand side:\n",
    "\n",
    "$$\n",
    "    \\lambda \\begin{pmatrix} u \\\\ v\\\\ 1 \\end{pmatrix} = \\mathbf{K} \\begin{pmatrix} \\mathbf{R_{cr}} | \\mathbf{t} \\end{pmatrix}  \\begin{pmatrix} X/Z \\\\ Y/Z \\\\ 1 \\\\ 1/Z \\end{pmatrix}\n",
    "$$\n",
    "\n",
    "If we let $Z$ go to infinity, we obtain the coordinates $(u,v)$ of the vanishing point in image space:\n",
    "\n",
    "$$\n",
    "    \\lambda \\begin{pmatrix} u \\\\ v\\\\ 1 \\end{pmatrix} = \\mathbf{K} \\begin{pmatrix} \\mathbf{R_{cr}} | \\mathbf{t} \\end{pmatrix} \\begin{pmatrix} 0 \\\\ 0 \\\\ 1 \\\\ 0 \\end{pmatrix}\n",
    "$$\n",
    "\n",
    "We define $\\mathbf{p_{\\infty}} = (u,v,1)^T$ for the vanishing point and we write down the transformation matrix components to obtain\n",
    "\n",
    "$$\n",
    "    \\lambda \\mathbf{p_{\\infty}} = \\mathbf{K} \\begin{pmatrix} R_{xx}  R_{xy}  R_{xz}  t_x \\\\ R_{yx}  R_{yy}  R_{yz}  t_y \\\\ R_{zx}  R_{zy}  R_{zz}  t_z \\end{pmatrix} \\begin{pmatrix} 0 \\\\ 0 \\\\ 1 \\\\ 0 \\end{pmatrix}\n",
    "$$\n",
    "\n"
   ]
  },
  {
   "cell_type": "markdown",
   "metadata": {},
   "source": [
    "Now, multiplying the transformation matrix with $(0,0,1,0)^T$ will eliminate the 1st, 2nd and 4th columnn, leaving us with only the 3rd column whose values are $R_{xz}$, $R_{yz}$  and $R_{zz}$. Let us denote this column by $\\mathbf{r_{3}}$. Then\n",
    "\n",
    "$$\n",
    "    \\lambda \\mathbf{p_{\\infty}} = \\mathbf{K} \\mathbf{r_{3}}\n",
    "$$\n",
    "\n",
    "\n",
    "Columns of a rotation matrix are always vectors with length 1 (unit vectors), so $\\|\\mathbf{r_{3}}\\|=1$. Thus, $\\lambda$ equals $\\frac{1} {\\| \\mathbf{K}^{-1} \\mathbf{p_{\\infty}}\\| }$ and we obtain\n",
    "\n",
    "$$\n",
    "    \\mathbf{r_{3}} = \\frac{\\mathbf{K}^{-1} \\mathbf{p_{\\infty}}} {\\| \\mathbf{K}^{-1} \\mathbf{p_{\\infty}}\\| }\n",
    "$$ (label_r3_equals_invKpinf)\n",
    "\n"
   ]
  },
  {
   "cell_type": "markdown",
   "metadata": {},
   "source": [
    "The idea of the vanishing point method for extrinsic calibration is the following: We determine the vanishing point $(u,v)$ in the image as the point were the lanes lines intersect. This yields $\\mathbf{p_{\\infty}} = (u,v,1)^T$. Since we know the intrinsic matrix $\\mathbf{K}$, we can compute $\\mathbf{r_3}$ using the formula above (Eq. {eq}`label_r3_equals_invKpinf`). Of course $\\mathbf{r_3}$ is only one of the three columns of the rotation matrix, but as we will show later, $\\mathbf{r_3}$ contains enough information to determine the yaw and pitch angle of the rotation. If we then assume that the roll angle is zero (of course an approximation), we can compute the whole rotation matrix. "
   ]
  },
  {
   "cell_type": "markdown",
   "metadata": {},
   "source": [
    "With this vanishing point method, we are able to only recover **yaw** and **pitch** of the camera. It makes intuitive sense that the vanishing point method is not able to recover **roll** and **translation** because the vanishing point is not affected by these two! Imagine looking at a star. The star's position is only going to change if you change the yaw and pitch of your head and is not affected by roll and translation. \n",
    "\n",
    "```{figure} images/car_rpy.svg\n",
    "---\n",
    "width: 60%\n",
    "name: coordinate_system\n",
    "---\n",
    "```"
   ]
  },
  {
   "cell_type": "markdown",
   "metadata": {},
   "source": [
    "Let's understand this by an example from CARLA. First, let us inspect of changing the roll angle:\n",
    "\n",
    "\n",
    "````{tabbed} roll = -20°\n",
    "```{figure} images/images_vp/p-0-y-0-r-20.png\n",
    "---\n",
    "width: 90%\n",
    "name: roll_minus_20\n",
    "---\n",
    "```\n",
    "````\n",
    "\n",
    "````{tabbed} roll = 0°\n",
    "```{figure} images/images_vp/p-0-y-0.png\n",
    "---\n",
    "width: 90%\n",
    "name: roll_0 \n",
    "---\n",
    "```\n",
    "````\n",
    "\n",
    "````{tabbed} roll = 20°\n",
    "```{figure} images/images_vp/p-0-y-0-r--20.png\n",
    "---\n",
    "width: 90%\n",
    "name: roll_20\n",
    "---\n",
    "```\n",
    "````\n",
    "\n",
    "You can see that the vanishing point didn't change. Similarly, let's see if this also holds true for translation:"
   ]
  },
  {
   "cell_type": "markdown",
   "metadata": {},
   "source": [
    "\n",
    "\n",
    "````{tabbed} translation = -2 m\n",
    "```{figure} images/images_vp/trans--2.png\n",
    "---\n",
    "width: 90%\n",
    "name: translation_minus_2\n",
    "---\n",
    "```\n",
    "````\n",
    "\n",
    "````{tabbed} translation = 0 m\n",
    "```{figure} images/images_vp/p-0-y-0.png\n",
    "---\n",
    "width: 90%\n",
    "name: translation_0\n",
    "---\n",
    "```\n",
    "````\n",
    "\n",
    "````{tabbed} translation = 2 m\n",
    "```{figure} images/images_vp/trans-2.png\n",
    "---\n",
    "width: 90%\n",
    "name: translation_2\n",
    "---\n",
    "```\n",
    "````\n",
    "\n",
    "You can see that the vanishing point lies at the same position for all the above images. This shows that roll and translation won't affect the vanishing point."
   ]
  },
  {
   "cell_type": "markdown",
   "metadata": {},
   "source": [
    "\n",
    "Now let's see the effect of changing pitch \n",
    "\n",
    "\n",
    "````{tabbed} pitch = -5°\n",
    "```{figure} images/images_vp/p--5-y-0.png\n",
    "---\n",
    "width: 90%\n",
    "name: pitch_minus_5\n",
    "---\n",
    "```\n",
    "````\n",
    "\n",
    "````{tabbed} pitch = 0°\n",
    "```{figure} images/images_vp/p-0-y-0.png\n",
    "---\n",
    "width: 90%\n",
    "name: pitch_0\n",
    "---\n",
    "```\n",
    "````\n",
    "\n",
    "````{tabbed} pitch = 5°\n",
    "```{figure} images/images_vp/p-5-y-0.png\n",
    "---\n",
    "width: 90%\n",
    "name: pitch_5\n",
    "---\n",
    "```\n"
   ]
  },
  {
   "cell_type": "markdown",
   "metadata": {},
   "source": [
    "and yaw:"
   ]
  },
  {
   "cell_type": "markdown",
   "metadata": {},
   "source": [
    "\n",
    "\n",
    "````{tabbed} yaw = -5°\n",
    "```{figure} images/images_vp/p-0-y--10.png\n",
    "---\n",
    "width: 90%\n",
    "name: yaw_minus_5\n",
    "---\n",
    "```\n",
    "````\n",
    "\n",
    "````{tabbed} yaw = 0°\n",
    "```{figure} images/images_vp/p-0-y-0.png\n",
    "---\n",
    "width: 90%\n",
    "name: yaw_0\n",
    "---\n",
    "```\n",
    "````\n",
    "\n",
    "````{tabbed} yaw = 5°\n",
    "```{figure} images/images_vp/p-0-y-10.png\n",
    "---\n",
    "width: 90%\n",
    "name: yaw_5\n",
    "---\n",
    "```\n"
   ]
  },
  {
   "cell_type": "markdown",
   "metadata": {},
   "source": [
    "As you can see, the vanishing point shifted in this case. Next let us explore how we can determine yaw and pitch from $\\mathbf{r_3}$"
   ]
  },
  {
   "cell_type": "markdown",
   "metadata": {},
   "source": [
    "## Deriving yaw and pitch from the vanishing point"
   ]
  },
  {
   "cell_type": "markdown",
   "metadata": {},
   "source": [
    "We discussed the rotation matrix in detail in the section [Basis of Image Formation](../LaneDetection/CameraBasics.ipynb) within the Lane Detection chapter. The rotation matrix parametrized by yaw, pitch and roll is given by \n",
    "\n",
    "$$\n",
    "    {R} = R_{yaw}R_{pitch}R_{roll}\n",
    "$$\n",
    "\n",
    "$$\n",
    "   {R} = \\begin{pmatrix} \\cos(\\gamma)\\cos(\\beta) + \\sin(\\alpha)\\sin(\\gamma)\\sin(\\beta)  & \\cos(\\gamma)\\sin(\\alpha)\\sin(\\beta) -\\cos(\\beta)\\sin(\\gamma) & -\\cos(\\alpha)\\sin(\\beta)  \\\\\n",
    "                          \\cos(\\alpha)\\sin(\\gamma) & \\cos(\\alpha)\\cos(\\gamma) & \\sin(\\alpha)  \\\\\n",
    "                          \\cos(\\gamma)\\sin(\\beta) -\\cos(\\beta)\\sin(\\alpha)\\sin(\\gamma)  & -\\cos(\\gamma)\\cos(\\beta)\\sin(\\alpha) -\\sin(\\gamma)\\sin(\\beta)  & \\cos(\\alpha)\\cos(\\beta) \\\\\n",
    "                            \\end{pmatrix} \n",
    "$$\n",
    "\n",
    "$\\alpha, \\beta, \\gamma$ are the pitch, yaw, and roll angles respectively."
   ]
  },
  {
   "cell_type": "markdown",
   "metadata": {},
   "source": [
    "The third column of this rotation matrix is\n",
    "\n",
    "$$\n",
    "    \\begin{pmatrix}  -\\cos(\\alpha)\\sin(\\beta) \\\\\n",
    "                            \\sin(\\alpha) \\\\\n",
    "                            \\cos(\\alpha)\\cos(\\beta) \\\\\n",
    "                            \\end{pmatrix}  = \\mathbf{r_{3}} = \\begin{pmatrix} R_{xz} \\\\ R_{yz} \\\\ R_{zz} \\end{pmatrix}\n",
    "$$ (label_r3_RRR)\n"
   ]
  },
  {
   "cell_type": "markdown",
   "metadata": {},
   "source": [
    "If we determine the vanishing point $(u,v)$ in the image, we know $\\mathbf{p_\\infty} = (u,v,1)^T$ and hence we can compute the value of $\\mathbf{r_3}= (R_{xz}, R_{yz}, R_{zz})^T$ from Eq. {eq}`label_r3_equals_invKpinf`:  $\\mathbf{r_{3}} = \\mathbf{K}^{-1} \\mathbf{p_{\\infty}} / \\| \\mathbf{K}^{-1} \\mathbf{p_{\\infty}}\\| $."
   ]
  },
  {
   "cell_type": "markdown",
   "metadata": {},
   "source": [
    "Solving Eq. {eq}`label_r3_RRR` for $\\alpha$ and $\\beta$ we get:\n",
    "\n",
    "$$\n",
    "    \\alpha = \\sin^{-1}{R_{yz}}\n",
    "$$ (label_eq_alpha)\n",
    "\n",
    "$$\n",
    "    \\beta = -\\tan^{-1}\\frac{R_{xz}}{{R_{zz}}}\n",
    "$$ (label_eq_beta)\n",
    "\n",
    "\n",
    "\n",
    "We have thus derived pitch and yaw from the vanishing point! Next, let us see how we can determine the vanishing point from an image using our lane detector."
   ]
  },
  {
   "cell_type": "markdown",
   "metadata": {},
   "source": [
    "## Vanishing point from lane lines"
   ]
  },
  {
   "cell_type": "code",
   "execution_count": 4,
   "metadata": {},
   "outputs": [
    {
     "ename": "ImportError",
     "evalue": "dlopen(/Users/mihail/Documents/GitHub/calib_challenge/.venv/lib/python3.10/site-packages/cv2/cv2.abi3.so, 2): Symbol not found: _VTRegisterSupplementalVideoDecoderIfAvailable\n  Referenced from: /Users/mihail/Documents/GitHub/calib_challenge/.venv/lib/python3.10/site-packages/cv2/.dylibs/libavcodec.59.37.100.dylib (which was built for Mac OS X 11.0)\n  Expected in: /System/Library/Frameworks/VideoToolbox.framework/Versions/A/VideoToolbox\n in /Users/mihail/Documents/GitHub/calib_challenge/.venv/lib/python3.10/site-packages/cv2/.dylibs/libavcodec.59.37.100.dylib",
     "output_type": "error",
     "traceback": [
      "\u001b[0;31m---------------------------------------------------------------------------\u001b[0m",
      "\u001b[0;31mImportError\u001b[0m                               Traceback (most recent call last)",
      "Cell \u001b[0;32mIn[4], line 1\u001b[0m\n\u001b[0;32m----> 1\u001b[0m \u001b[39mimport\u001b[39;00m \u001b[39mcv2\u001b[39;00m\n\u001b[1;32m      2\u001b[0m \u001b[39mimport\u001b[39;00m \u001b[39mnumpy\u001b[39;00m \u001b[39mas\u001b[39;00m \u001b[39mnp\u001b[39;00m\n\u001b[1;32m      3\u001b[0m \u001b[39mimport\u001b[39;00m \u001b[39mcopy\u001b[39;00m\n",
      "\u001b[0;31mImportError\u001b[0m: dlopen(/Users/mihail/Documents/GitHub/calib_challenge/.venv/lib/python3.10/site-packages/cv2/cv2.abi3.so, 2): Symbol not found: _VTRegisterSupplementalVideoDecoderIfAvailable\n  Referenced from: /Users/mihail/Documents/GitHub/calib_challenge/.venv/lib/python3.10/site-packages/cv2/.dylibs/libavcodec.59.37.100.dylib (which was built for Mac OS X 11.0)\n  Expected in: /System/Library/Frameworks/VideoToolbox.framework/Versions/A/VideoToolbox\n in /Users/mihail/Documents/GitHub/calib_challenge/.venv/lib/python3.10/site-packages/cv2/.dylibs/libavcodec.59.37.100.dylib"
     ]
    }
   ],
   "source": [
    "import cv2\n",
    "import numpy as np\n",
    "import copy\n",
    "%matplotlib inline\n",
    "import matplotlib.pyplot as plt"
   ]
  },
  {
   "cell_type": "code",
   "execution_count": 6,
   "metadata": {},
   "outputs": [
    {
     "ename": "NameError",
     "evalue": "name 'cv2' is not defined",
     "output_type": "error",
     "traceback": [
      "\u001b[0;31m---------------------------------------------------------------------------\u001b[0m",
      "\u001b[0;31mNameError\u001b[0m                                 Traceback (most recent call last)",
      "Cell \u001b[0;32mIn[6], line 1\u001b[0m\n\u001b[0;32m----> 1\u001b[0m img \u001b[39m=\u001b[39m cv2\u001b[39m.\u001b[39mimread(\u001b[39m'\u001b[39m\u001b[39mimages/test.png\u001b[39m\u001b[39m'\u001b[39m)[:, :, (\u001b[39m2\u001b[39m, \u001b[39m1\u001b[39m, \u001b[39m0\u001b[39m)]\n\u001b[1;32m      2\u001b[0m plt\u001b[39m.\u001b[39mimshow(img);\n",
      "\u001b[0;31mNameError\u001b[0m: name 'cv2' is not defined"
     ]
    }
   ],
   "source": [
    "img = cv2.imread('images/test.png')[:, :, (2, 1, 0)]\n",
    "plt.imshow(img);"
   ]
  },
  {
   "cell_type": "markdown",
   "metadata": {},
   "source": [
    "This image was collected from CARLA having a pitch of -5 degrees and yaw of -2 degrees. We aim to obtain these values of pitch and yaw just from the image. For that we will be using our lane detector network trained previously to find the left and right lane boundaries. The intersection of them will lead to the vanishing point. "
   ]
  },
  {
   "cell_type": "code",
   "execution_count": 5,
   "metadata": {},
   "outputs": [
    {
     "ename": "ImportError",
     "evalue": "dlopen(/Users/mihail/Documents/GitHub/calib_challenge/.venv/lib/python3.10/site-packages/cv2/cv2.abi3.so, 2): Symbol not found: _VTRegisterSupplementalVideoDecoderIfAvailable\n  Referenced from: /Users/mihail/Documents/GitHub/calib_challenge/.venv/lib/python3.10/site-packages/cv2/.dylibs/libavcodec.59.37.100.dylib (which was built for Mac OS X 11.0)\n  Expected in: /System/Library/Frameworks/VideoToolbox.framework/Versions/A/VideoToolbox\n in /Users/mihail/Documents/GitHub/calib_challenge/.venv/lib/python3.10/site-packages/cv2/.dylibs/libavcodec.59.37.100.dylib",
     "output_type": "error",
     "traceback": [
      "\u001b[0;31m---------------------------------------------------------------------------\u001b[0m",
      "\u001b[0;31mImportError\u001b[0m                               Traceback (most recent call last)",
      "Cell \u001b[0;32mIn[5], line 3\u001b[0m\n\u001b[1;32m      1\u001b[0m \u001b[39mimport\u001b[39;00m \u001b[39msys\u001b[39;00m\u001b[39m,\u001b[39m \u001b[39mcopy\u001b[39;00m\n\u001b[1;32m      2\u001b[0m sys\u001b[39m.\u001b[39mpath\u001b[39m.\u001b[39mappend(\u001b[39m'\u001b[39m\u001b[39m../../code\u001b[39m\u001b[39m'\u001b[39m)\n\u001b[0;32m----> 3\u001b[0m \u001b[39mfrom\u001b[39;00m \u001b[39msolutions\u001b[39;00m\u001b[39m.\u001b[39;00m\u001b[39mlane_detection\u001b[39;00m\u001b[39m.\u001b[39;00m\u001b[39mlane_detector\u001b[39;00m \u001b[39mimport\u001b[39;00m LaneDetector\n\u001b[1;32m      5\u001b[0m model_path \u001b[39m=\u001b[39m \u001b[39m\"\u001b[39m\u001b[39m../../code/solutions/lane_detection/fastai_model.pth\u001b[39m\u001b[39m\"\u001b[39m\n\u001b[1;32m      6\u001b[0m ld \u001b[39m=\u001b[39m LaneDetector(model_path\u001b[39m=\u001b[39mmodel_path)\n",
      "File \u001b[0;32m~/Documents/GitHub/calib_challenge/Algorithms-for-Automated-Driving-master/code/solutions/lane_detection/lane_detector.py:3\u001b[0m\n\u001b[1;32m      1\u001b[0m \u001b[39mfrom\u001b[39;00m \u001b[39m.\u001b[39;00m\u001b[39mcamera_geometry\u001b[39;00m \u001b[39mimport\u001b[39;00m CameraGeometry\n\u001b[1;32m      2\u001b[0m \u001b[39mimport\u001b[39;00m \u001b[39mnumpy\u001b[39;00m \u001b[39mas\u001b[39;00m \u001b[39mnp\u001b[39;00m\n\u001b[0;32m----> 3\u001b[0m \u001b[39mimport\u001b[39;00m \u001b[39mcv2\u001b[39;00m\n\u001b[1;32m      4\u001b[0m \u001b[39mimport\u001b[39;00m \u001b[39mtorch\u001b[39;00m\n\u001b[1;32m      5\u001b[0m \u001b[39mfrom\u001b[39;00m \u001b[39mfastseg\u001b[39;00m \u001b[39mimport\u001b[39;00m MobileV3Small\n",
      "\u001b[0;31mImportError\u001b[0m: dlopen(/Users/mihail/Documents/GitHub/calib_challenge/.venv/lib/python3.10/site-packages/cv2/cv2.abi3.so, 2): Symbol not found: _VTRegisterSupplementalVideoDecoderIfAvailable\n  Referenced from: /Users/mihail/Documents/GitHub/calib_challenge/.venv/lib/python3.10/site-packages/cv2/.dylibs/libavcodec.59.37.100.dylib (which was built for Mac OS X 11.0)\n  Expected in: /System/Library/Frameworks/VideoToolbox.framework/Versions/A/VideoToolbox\n in /Users/mihail/Documents/GitHub/calib_challenge/.venv/lib/python3.10/site-packages/cv2/.dylibs/libavcodec.59.37.100.dylib"
     ]
    }
   ],
   "source": [
    "import sys, copy\n",
    "sys.path.append('../../code')\n",
    "from solutions.lane_detection.lane_detector import LaneDetector\n",
    "\n",
    "model_path = \"../../code/solutions/lane_detection/fastai_model.pth\"\n",
    "ld = LaneDetector(model_path=model_path)"
   ]
  },
  {
   "cell_type": "markdown",
   "metadata": {},
   "source": [
    "First let us run our neural network to compute for each pixel the probability whether it is background, left boundary or right boundary:"
   ]
  },
  {
   "cell_type": "code",
   "execution_count": null,
   "metadata": {},
   "outputs": [],
   "source": [
    "background_prob, left_prob, right_prob = ld.detect(img)"
   ]
  },
  {
   "cell_type": "markdown",
   "metadata": {},
   "source": [
    "All pixels where `left_prob` is large (let's say larger than `0.5`), can be considered as pixels of the left boundary. Let us make all those pixels blue to get a nice visualization. Similarly we make the right boundary pixels red:"
   ]
  },
  {
   "cell_type": "code",
   "execution_count": null,
   "metadata": {},
   "outputs": [],
   "source": [
    "img_with_detection = copy.copy(img)\n",
    "img_with_detection[left_prob > 0.5, :] = [0,0,255] # blue\n",
    "img_with_detection[right_prob > 0.5, :] = [255,0,0] # red\n",
    "plt.imshow(img_with_detection)\n",
    "plt.xlabel('$u$'); plt.ylabel('$v$');"
   ]
  },
  {
   "cell_type": "markdown",
   "metadata": {},
   "source": [
    "To determine the intersection of the blue and red line, we describe each of them by an equation $v(u)=m u+c$, where $u$ and $v$ are the pixel coordinates (see the axes labels in the image above). Then, it is a high school math problem to find the intersection point.\n",
    "\n",
    "Getting the line equation $v(u)=m u+c$ for the left lane line from our `prob_left` matrix is actually just two lines of python code:"
   ]
  },
  {
   "cell_type": "code",
   "execution_count": null,
   "metadata": {},
   "outputs": [],
   "source": [
    "# get a list of all u and v values for which left_prob[v,u] > 0.5\n",
    "v_list, u_list = np.nonzero(left_prob >0.5)\n",
    "# Fit a polynomial of degree 1 (which is a line) to the list of pixels\n",
    "poly_left = np.poly1d(np.polyfit(u_list, v_list, deg=1))"
   ]
  },
  {
   "cell_type": "markdown",
   "metadata": {},
   "source": [
    "Let's add two more lines of code for the right boundary"
   ]
  },
  {
   "cell_type": "code",
   "execution_count": null,
   "metadata": {},
   "outputs": [],
   "source": [
    "v_list, u_list = np.nonzero(right_prob >0.5)\n",
    "poly_right = np.poly1d(np.polyfit(u_list, v_list, deg=1))"
   ]
  },
  {
   "cell_type": "markdown",
   "metadata": {},
   "source": [
    "And finally some code to visualize our lines"
   ]
  },
  {
   "cell_type": "code",
   "execution_count": null,
   "metadata": {},
   "outputs": [],
   "source": [
    "def show_img_and_lines():\n",
    "    plt.imshow(img)\n",
    "    u = np.arange(0, 1024)\n",
    "    v_left = poly_left(u)\n",
    "    v_right = poly_right(u)\n",
    "    plt.plot(u, v_left, color=\"b\")\n",
    "    plt.plot(u, v_right, color=\"r\")\n",
    "    plt.xlim(0, 1024); plt.ylim(512, 0)\n",
    "    plt.xlabel('$u$'); plt.ylabel('$v$');\n",
    "show_img_and_lines()"
   ]
  },
  {
   "cell_type": "markdown",
   "metadata": {},
   "source": [
    "In the exercises you will write code that determines the coordinates of the intersection points of two lines. We can import it here to determine the vanishing point:"
   ]
  },
  {
   "cell_type": "code",
   "execution_count": null,
   "metadata": {},
   "outputs": [],
   "source": [
    "from solutions.camera_calibration.calibrated_lane_detector import get_intersection\n",
    "u_i, v_i = get_intersection(poly_left, poly_right)\n",
    "show_img_and_lines()\n",
    "plt.scatter([u_i], [v_i], marker=\"o\", s=100, color=\"y\", zorder=10);"
   ]
  },
  {
   "cell_type": "markdown",
   "metadata": {},
   "source": [
    "Finally, we can find pitch and yaw of the camera form the vanishing point using Eqs. {eq}`label_r3_equals_invKpinf`, {eq}`label_eq_alpha`, {eq}`label_eq_beta`. Again you will write some code for this in the exercises."
   ]
  },
  {
   "cell_type": "code",
   "execution_count": null,
   "metadata": {
    "scrolled": false
   },
   "outputs": [],
   "source": [
    "from solutions.camera_calibration.calibrated_lane_detector import get_py_from_vp\n",
    "pitch, yaw = get_py_from_vp(u_i, v_i, ld.cg.intrinsic_matrix)\n",
    "\n",
    "print(f'yaw degrees:   %.2f' % np.rad2deg(yaw))\n",
    "print(f'pitch degrees: %.2f' % np.rad2deg(pitch))"
   ]
  },
  {
   "cell_type": "markdown",
   "metadata": {},
   "source": [
    "This is very close to the correct values of -2 and -5! You can expect small errors in yaw and pitch because small errors in lane detection can lead to large errors for the vanishing point. Also the car will not always be perfectly aligned with the lane lines as it was in our example image. Therefore, the readings are mostly taken for a period of time from a video stream and then averaged.\n",
    "\n",
    "This is why several automated driving systems like Tesla's autopilot or comma ai's openpilot require you to drive straight for a while to calibrate the cameras before you can engage the software to drive the car."
   ]
  },
  {
   "cell_type": "markdown",
   "metadata": {},
   "source": [
    "For the exercise, you will write a `CalibratedLaneDetector` class which inherits from the `LaneDetector` class. In each cycle it determines the vanishing points and uses that to estimate yaw and pitch. It stores this information to perform an averaging over time. Additionally, the `CalibratedLaneDetector` makes sure not to use images for averaging when the lane lines are curved, since the vanishing point should only be computed from straight lines. "
   ]
  },
  {
   "cell_type": "markdown",
   "metadata": {},
   "source": [
    "## Exercise\n",
    "\n",
    "We provide you with a video. Your task is to use the lane detection network to calibrate the camera and output the yaw and pitch values. The video can be found in the `data` folder and is named `calibration_video.mp4`.\n",
    "\n",
    "To start working on the exercises, open `code/tests/camera_calibration/calibrated_lane_detector.ipynb` and follow the instructions in that notebook."
   ]
  },
  {
   "cell_type": "markdown",
   "metadata": {},
   "source": [
    "If you completed the tasks from that notebook, you can optionally check your code with a CARLA simulation. Go to the parent folder of the `code` folder and run \n",
    "\n",
    "```bash\n",
    "python -m code.tests.camera_calibration.carla_sim --help\n",
    "```\n",
    "\n",
    "to see instructions on how to run the simulation. "
   ]
  },
  {
   "cell_type": "code",
   "execution_count": null,
   "metadata": {},
   "outputs": [],
   "source": []
  }
 ],
 "metadata": {
  "celltoolbar": "Edit Metadata",
  "kernelspec": {
   "display_name": ".venv",
   "language": "python",
   "name": "python3"
  },
  "language_info": {
   "codemirror_mode": {
    "name": "ipython",
    "version": 3
   },
   "file_extension": ".py",
   "mimetype": "text/x-python",
   "name": "python",
   "nbconvert_exporter": "python",
   "pygments_lexer": "ipython3",
   "version": "3.10.8"
  },
  "vscode": {
   "interpreter": {
    "hash": "695d025ae3629dc7fa228bc9bd29eeef88eb57da327e03334d9966f75dded126"
   }
  }
 },
 "nbformat": 4,
 "nbformat_minor": 2
}
